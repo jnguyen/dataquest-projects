{
 "cells": [
  {
   "cell_type": "markdown",
   "metadata": {},
   "source": [
    "# Predicting Car Prices\n",
    "Author: Jimmy Nguyen (github.com/jnguyen)"
   ]
  },
  {
   "cell_type": "markdown",
   "metadata": {},
   "source": [
    "# Introduction"
   ]
  },
  {
   "cell_type": "markdown",
   "metadata": {},
   "source": [
    "In this project, I use K-Nearest Neighbors (KNN) to predict a car's market value based on its attributes in relation to cars on the market. To implement this, I use `sklearn` and `pandas`. The data I'm using is the [Automobile Data Set](https://archive.ics.uci.edu/ml/datasets/automobile) from the UCI Machine Learning Repository."
   ]
  },
  {
   "cell_type": "code",
   "execution_count": 13,
   "metadata": {},
   "outputs": [],
   "source": [
    "# Import data analysis libraries\n",
    "import pandas as pd\n",
    "import matplotlib.pyplot as plt\n",
    "import numpy as np\n",
    "import seaborn as sns\n",
    "\n",
    "%matplotlib inline\n",
    "\n",
    "# Read in data\n",
    "cars = pd.read_csv('imports-85.data', header=None,\n",
    "                   names=[\"symboling\", \"normalized-losses\",\n",
    "                          \"make\", \"fuel-type\", \"aspiration\",\n",
    "                          \"num-of-doors\", \"body-style\",\n",
    "                          \"drive-wheels\", \"engine-location\",\n",
    "                          \"wheel-base\", \"length\", \"width\",\n",
    "                          \"height\", \"curb-weight\", \"engine-type\",\n",
    "                          \"num-of-cylinders\", \"engine-size\",\n",
    "                          \"fuel-system\", \"bore\", \"stroke\",\n",
    "                          \"compression-ratio\", \"horsepower\",\n",
    "                          \"peak-rpm\", \"city-mpg\", \"highway-mpg\",\n",
    "                          \"price\"])"
   ]
  },
  {
   "cell_type": "code",
   "execution_count": 14,
   "metadata": {
    "scrolled": true
   },
   "outputs": [
    {
     "data": {
      "text/html": [
       "<div>\n",
       "<style scoped>\n",
       "    .dataframe tbody tr th:only-of-type {\n",
       "        vertical-align: middle;\n",
       "    }\n",
       "\n",
       "    .dataframe tbody tr th {\n",
       "        vertical-align: top;\n",
       "    }\n",
       "\n",
       "    .dataframe thead th {\n",
       "        text-align: right;\n",
       "    }\n",
       "</style>\n",
       "<table border=\"1\" class=\"dataframe\">\n",
       "  <thead>\n",
       "    <tr style=\"text-align: right;\">\n",
       "      <th></th>\n",
       "      <th>symboling</th>\n",
       "      <th>normalized-losses</th>\n",
       "      <th>make</th>\n",
       "      <th>fuel-type</th>\n",
       "      <th>aspiration</th>\n",
       "      <th>num-of-doors</th>\n",
       "      <th>body-style</th>\n",
       "      <th>drive-wheels</th>\n",
       "      <th>engine-location</th>\n",
       "      <th>wheel-base</th>\n",
       "      <th>...</th>\n",
       "      <th>engine-size</th>\n",
       "      <th>fuel-system</th>\n",
       "      <th>bore</th>\n",
       "      <th>stroke</th>\n",
       "      <th>compression-ratio</th>\n",
       "      <th>horsepower</th>\n",
       "      <th>peak-rpm</th>\n",
       "      <th>city-mpg</th>\n",
       "      <th>highway-mpg</th>\n",
       "      <th>price</th>\n",
       "    </tr>\n",
       "  </thead>\n",
       "  <tbody>\n",
       "    <tr>\n",
       "      <th>0</th>\n",
       "      <td>3</td>\n",
       "      <td>?</td>\n",
       "      <td>alfa-romero</td>\n",
       "      <td>gas</td>\n",
       "      <td>std</td>\n",
       "      <td>two</td>\n",
       "      <td>convertible</td>\n",
       "      <td>rwd</td>\n",
       "      <td>front</td>\n",
       "      <td>88.6</td>\n",
       "      <td>...</td>\n",
       "      <td>130</td>\n",
       "      <td>mpfi</td>\n",
       "      <td>3.47</td>\n",
       "      <td>2.68</td>\n",
       "      <td>9.0</td>\n",
       "      <td>111</td>\n",
       "      <td>5000</td>\n",
       "      <td>21</td>\n",
       "      <td>27</td>\n",
       "      <td>13495</td>\n",
       "    </tr>\n",
       "    <tr>\n",
       "      <th>1</th>\n",
       "      <td>3</td>\n",
       "      <td>?</td>\n",
       "      <td>alfa-romero</td>\n",
       "      <td>gas</td>\n",
       "      <td>std</td>\n",
       "      <td>two</td>\n",
       "      <td>convertible</td>\n",
       "      <td>rwd</td>\n",
       "      <td>front</td>\n",
       "      <td>88.6</td>\n",
       "      <td>...</td>\n",
       "      <td>130</td>\n",
       "      <td>mpfi</td>\n",
       "      <td>3.47</td>\n",
       "      <td>2.68</td>\n",
       "      <td>9.0</td>\n",
       "      <td>111</td>\n",
       "      <td>5000</td>\n",
       "      <td>21</td>\n",
       "      <td>27</td>\n",
       "      <td>16500</td>\n",
       "    </tr>\n",
       "    <tr>\n",
       "      <th>2</th>\n",
       "      <td>1</td>\n",
       "      <td>?</td>\n",
       "      <td>alfa-romero</td>\n",
       "      <td>gas</td>\n",
       "      <td>std</td>\n",
       "      <td>two</td>\n",
       "      <td>hatchback</td>\n",
       "      <td>rwd</td>\n",
       "      <td>front</td>\n",
       "      <td>94.5</td>\n",
       "      <td>...</td>\n",
       "      <td>152</td>\n",
       "      <td>mpfi</td>\n",
       "      <td>2.68</td>\n",
       "      <td>3.47</td>\n",
       "      <td>9.0</td>\n",
       "      <td>154</td>\n",
       "      <td>5000</td>\n",
       "      <td>19</td>\n",
       "      <td>26</td>\n",
       "      <td>16500</td>\n",
       "    </tr>\n",
       "    <tr>\n",
       "      <th>3</th>\n",
       "      <td>2</td>\n",
       "      <td>164</td>\n",
       "      <td>audi</td>\n",
       "      <td>gas</td>\n",
       "      <td>std</td>\n",
       "      <td>four</td>\n",
       "      <td>sedan</td>\n",
       "      <td>fwd</td>\n",
       "      <td>front</td>\n",
       "      <td>99.8</td>\n",
       "      <td>...</td>\n",
       "      <td>109</td>\n",
       "      <td>mpfi</td>\n",
       "      <td>3.19</td>\n",
       "      <td>3.40</td>\n",
       "      <td>10.0</td>\n",
       "      <td>102</td>\n",
       "      <td>5500</td>\n",
       "      <td>24</td>\n",
       "      <td>30</td>\n",
       "      <td>13950</td>\n",
       "    </tr>\n",
       "    <tr>\n",
       "      <th>4</th>\n",
       "      <td>2</td>\n",
       "      <td>164</td>\n",
       "      <td>audi</td>\n",
       "      <td>gas</td>\n",
       "      <td>std</td>\n",
       "      <td>four</td>\n",
       "      <td>sedan</td>\n",
       "      <td>4wd</td>\n",
       "      <td>front</td>\n",
       "      <td>99.4</td>\n",
       "      <td>...</td>\n",
       "      <td>136</td>\n",
       "      <td>mpfi</td>\n",
       "      <td>3.19</td>\n",
       "      <td>3.40</td>\n",
       "      <td>8.0</td>\n",
       "      <td>115</td>\n",
       "      <td>5500</td>\n",
       "      <td>18</td>\n",
       "      <td>22</td>\n",
       "      <td>17450</td>\n",
       "    </tr>\n",
       "  </tbody>\n",
       "</table>\n",
       "<p>5 rows × 26 columns</p>\n",
       "</div>"
      ],
      "text/plain": [
       "   symboling normalized-losses         make fuel-type aspiration num-of-doors  \\\n",
       "0          3                 ?  alfa-romero       gas        std          two   \n",
       "1          3                 ?  alfa-romero       gas        std          two   \n",
       "2          1                 ?  alfa-romero       gas        std          two   \n",
       "3          2               164         audi       gas        std         four   \n",
       "4          2               164         audi       gas        std         four   \n",
       "\n",
       "    body-style drive-wheels engine-location  wheel-base  ...  engine-size  \\\n",
       "0  convertible          rwd           front        88.6  ...          130   \n",
       "1  convertible          rwd           front        88.6  ...          130   \n",
       "2    hatchback          rwd           front        94.5  ...          152   \n",
       "3        sedan          fwd           front        99.8  ...          109   \n",
       "4        sedan          4wd           front        99.4  ...          136   \n",
       "\n",
       "   fuel-system  bore  stroke compression-ratio horsepower  peak-rpm city-mpg  \\\n",
       "0         mpfi  3.47    2.68               9.0        111      5000       21   \n",
       "1         mpfi  3.47    2.68               9.0        111      5000       21   \n",
       "2         mpfi  2.68    3.47               9.0        154      5000       19   \n",
       "3         mpfi  3.19    3.40              10.0        102      5500       24   \n",
       "4         mpfi  3.19    3.40               8.0        115      5500       18   \n",
       "\n",
       "  highway-mpg  price  \n",
       "0          27  13495  \n",
       "1          27  16500  \n",
       "2          26  16500  \n",
       "3          30  13950  \n",
       "4          22  17450  \n",
       "\n",
       "[5 rows x 26 columns]"
      ]
     },
     "execution_count": 14,
     "metadata": {},
     "output_type": "execute_result"
    }
   ],
   "source": [
    "# Data preview: first few rows\n",
    "cars.head(5)"
   ]
  },
  {
   "cell_type": "markdown",
   "metadata": {},
   "source": [
    "# Data Cleaning"
   ]
  },
  {
   "cell_type": "markdown",
   "metadata": {},
   "source": [
    "Since KNN is sensitive to scales, we'll need to normalize the data before we proceed. In addition, we'll properly encode missing values and ensure that columns have the correct `int` or `float` types."
   ]
  },
  {
   "cell_type": "markdown",
   "metadata": {},
   "source": [
    "## Cleaning up missing values and data types"
   ]
  },
  {
   "cell_type": "code",
   "execution_count": 15,
   "metadata": {},
   "outputs": [],
   "source": [
    "# Recode missing values\n",
    "cars = cars.replace('?',np.nan)"
   ]
  },
  {
   "cell_type": "code",
   "execution_count": 16,
   "metadata": {},
   "outputs": [
    {
     "name": "stdout",
     "output_type": "stream",
     "text": [
      "<class 'pandas.core.frame.DataFrame'>\n",
      "RangeIndex: 205 entries, 0 to 204\n",
      "Data columns (total 26 columns):\n",
      "symboling            205 non-null int64\n",
      "normalized-losses    164 non-null object\n",
      "make                 205 non-null object\n",
      "fuel-type            205 non-null object\n",
      "aspiration           205 non-null object\n",
      "num-of-doors         203 non-null object\n",
      "body-style           205 non-null object\n",
      "drive-wheels         205 non-null object\n",
      "engine-location      205 non-null object\n",
      "wheel-base           205 non-null float64\n",
      "length               205 non-null float64\n",
      "width                205 non-null float64\n",
      "height               205 non-null float64\n",
      "curb-weight          205 non-null int64\n",
      "engine-type          205 non-null object\n",
      "num-of-cylinders     205 non-null object\n",
      "engine-size          205 non-null int64\n",
      "fuel-system          205 non-null object\n",
      "bore                 201 non-null object\n",
      "stroke               201 non-null object\n",
      "compression-ratio    205 non-null float64\n",
      "horsepower           203 non-null object\n",
      "peak-rpm             203 non-null object\n",
      "city-mpg             205 non-null int64\n",
      "highway-mpg          205 non-null int64\n",
      "price                201 non-null object\n",
      "dtypes: float64(5), int64(5), object(16)\n",
      "memory usage: 41.7+ KB\n"
     ]
    }
   ],
   "source": [
    "# Check data types\n",
    "cars.info()"
   ]
  },
  {
   "cell_type": "markdown",
   "metadata": {},
   "source": [
    "Some columns with the `object` type are actually numeric, but were coerced as an object because missing values were coded as `?`. So, we'll need to convert them to `float`. This is because we're going to normalize the feature columns later, and also because `np.nan` is only valid for `float` columns."
   ]
  },
  {
   "cell_type": "code",
   "execution_count": 17,
   "metadata": {
    "scrolled": true
   },
   "outputs": [],
   "source": [
    "# Convert to proper type\n",
    "cars = cars.astype({'normalized-losses': float,\n",
    "             'bore': float,\n",
    "             'stroke': float,\n",
    "             'horsepower': float,\n",
    "             'peak-rpm': float,\n",
    "             'price': float})\n"
   ]
  },
  {
   "cell_type": "markdown",
   "metadata": {},
   "source": [
    "Finally, we can convert some columns to more workable formats."
   ]
  },
  {
   "cell_type": "code",
   "execution_count": 18,
   "metadata": {},
   "outputs": [
    {
     "data": {
      "text/plain": [
       "four    114\n",
       "two      89\n",
       "Name: num-of-doors, dtype: int64"
      ]
     },
     "execution_count": 18,
     "metadata": {},
     "output_type": "execute_result"
    }
   ],
   "source": [
    "# num-of-doors can be categorical in the context of cars\n",
    "# but to use with KNN we'll convert it to numeric\n",
    "cars['num-of-doors'].value_counts()"
   ]
  },
  {
   "cell_type": "code",
   "execution_count": 19,
   "metadata": {},
   "outputs": [],
   "source": [
    "cars['num-of-doors'] = cars['num-of-doors'].map({'four': 4, 'two': 2})"
   ]
  },
  {
   "cell_type": "code",
   "execution_count": 20,
   "metadata": {},
   "outputs": [
    {
     "data": {
      "text/plain": [
       "four      159\n",
       "six        24\n",
       "five       11\n",
       "eight       5\n",
       "two         4\n",
       "three       1\n",
       "twelve      1\n",
       "Name: num-of-cylinders, dtype: int64"
      ]
     },
     "execution_count": 20,
     "metadata": {},
     "output_type": "execute_result"
    }
   ],
   "source": [
    "# num-of-cylinders can be categorical in the context of cars\n",
    "# but to use with KNN we'll convert it to numeric\n",
    "cars['num-of-cylinders'].value_counts()"
   ]
  },
  {
   "cell_type": "code",
   "execution_count": 21,
   "metadata": {},
   "outputs": [],
   "source": [
    "cars['num-of-cylinders'] = cars['num-of-cylinders'].map({'two': 2,\n",
    "                                                         'three': 3,\n",
    "                                                         'four': 4,\n",
    "                                                         'five': 5,\n",
    "                                                         'six': 6,\n",
    "                                                         'eight': 8,\n",
    "                                                         'twelve': 12})"
   ]
  },
  {
   "cell_type": "markdown",
   "metadata": {},
   "source": [
    "## Missing Values"
   ]
  },
  {
   "cell_type": "markdown",
   "metadata": {},
   "source": [
    "The most important column to consider is the target, `price`, so we'll drop values that have missing price. For the rest, we'll fill with the average value for that column."
   ]
  },
  {
   "cell_type": "code",
   "execution_count": 22,
   "metadata": {},
   "outputs": [
    {
     "data": {
      "text/plain": [
       "symboling             0\n",
       "normalized-losses    37\n",
       "make                  0\n",
       "fuel-type             0\n",
       "aspiration            0\n",
       "num-of-doors          2\n",
       "body-style            0\n",
       "drive-wheels          0\n",
       "engine-location       0\n",
       "wheel-base            0\n",
       "length                0\n",
       "width                 0\n",
       "height                0\n",
       "curb-weight           0\n",
       "engine-type           0\n",
       "num-of-cylinders      0\n",
       "engine-size           0\n",
       "fuel-system           0\n",
       "bore                  4\n",
       "stroke                4\n",
       "compression-ratio     0\n",
       "horsepower            2\n",
       "peak-rpm              2\n",
       "city-mpg              0\n",
       "highway-mpg           0\n",
       "price                 0\n",
       "dtype: int64"
      ]
     },
     "execution_count": 22,
     "metadata": {},
     "output_type": "execute_result"
    }
   ],
   "source": [
    "# Since we want to predict price, drop all missing price rows\n",
    "cars = cars.dropna(subset=['price'])\n",
    "cars.isnull().sum()"
   ]
  },
  {
   "cell_type": "code",
   "execution_count": 23,
   "metadata": {},
   "outputs": [
    {
     "data": {
      "text/plain": [
       "symboling            0\n",
       "normalized-losses    0\n",
       "make                 0\n",
       "fuel-type            0\n",
       "aspiration           0\n",
       "num-of-doors         0\n",
       "body-style           0\n",
       "drive-wheels         0\n",
       "engine-location      0\n",
       "wheel-base           0\n",
       "length               0\n",
       "width                0\n",
       "height               0\n",
       "curb-weight          0\n",
       "engine-type          0\n",
       "num-of-cylinders     0\n",
       "engine-size          0\n",
       "fuel-system          0\n",
       "bore                 0\n",
       "stroke               0\n",
       "compression-ratio    0\n",
       "horsepower           0\n",
       "peak-rpm             0\n",
       "city-mpg             0\n",
       "highway-mpg          0\n",
       "price                0\n",
       "dtype: int64"
      ]
     },
     "execution_count": 23,
     "metadata": {},
     "output_type": "execute_result"
    }
   ],
   "source": [
    "# For other columns, fill with average value\n",
    "cars = cars.fillna(cars.mean())\n",
    "cars.isnull().sum()"
   ]
  },
  {
   "cell_type": "markdown",
   "metadata": {},
   "source": [
    "## Normalize feature columns"
   ]
  },
  {
   "cell_type": "markdown",
   "metadata": {},
   "source": [
    "We will now take all numeric columns as features and price as the target. We will normalize all feature columns to the range `0` to `1`. Note that we'll be making data copies here using this approach to avoid editing the underlying data. For larger datasets, it may be more appropriate to do inplace replacements or to preprocess before loading into Python to conserve memory and speed up the code."
   ]
  },
  {
   "cell_type": "code",
   "execution_count": 24,
   "metadata": {},
   "outputs": [],
   "source": [
    "from sklearn.preprocessing import MinMaxScaler"
   ]
  },
  {
   "cell_type": "code",
   "execution_count": 25,
   "metadata": {},
   "outputs": [],
   "source": [
    "# Define and scale numeric features to 0 to 1 range except for target price\n",
    "scaled_cars = cars.copy()\n",
    "scaled_cars = scaled_cars.select_dtypes(exclude=object).drop('price', axis=1)\n",
    "scaled_cars = (scaled_cars - scaled_cars.min()) / (scaled_cars.max() - scaled_cars.min())\n",
    "scaled_cars['price'] = cars['price'] # keep original price column"
   ]
  },
  {
   "cell_type": "markdown",
   "metadata": {},
   "source": [
    "# KNN Price Modeling"
   ]
  },
  {
   "cell_type": "markdown",
   "metadata": {},
   "source": [
    "## Univariate case"
   ]
  },
  {
   "cell_type": "markdown",
   "metadata": {},
   "source": [
    "We'll start simple by only training on a single feature column at a time and calculating the RMSE to evaluate model fit."
   ]
  },
  {
   "cell_type": "code",
   "execution_count": 26,
   "metadata": {},
   "outputs": [],
   "source": [
    "from sklearn.neighbors import KNeighborsRegressor\n",
    "from sklearn.metrics import mean_squared_error"
   ]
  },
  {
   "cell_type": "code",
   "execution_count": 27,
   "metadata": {},
   "outputs": [],
   "source": [
    "# df: pandas df\n",
    "# Train: list of training column names\n",
    "# Target: str, name of target column\n",
    "def knn_train_test(df, train_col, target_col, k=5, seed=3928678):\n",
    "    # Split training into 70-30\n",
    "    M = df.shape[0]\n",
    "    train_m = int(M * 0.7)\n",
    "    \n",
    "    # Permute indices before assigning splits\n",
    "    np.random.seed(seed)\n",
    "    perm_index = np.random.permutation(M)\n",
    "    df = df.iloc[perm_index]\n",
    "    train_df = df.iloc[:train_m]\n",
    "    test_df = df.iloc[train_m:]\n",
    "    \n",
    "    # Run KNN model and return RMSE\n",
    "    model = KNeighborsRegressor(k)\n",
    "    model.fit(train_df[train_col], train_df[target_col])\n",
    "    predictions = model.predict(test_df[train_col])\n",
    "    mse = mean_squared_error(test_df[target_col], predictions)\n",
    "    rmse = np.sqrt(mse)\n",
    "    \n",
    "    return rmse"
   ]
  },
  {
   "cell_type": "code",
   "execution_count": 28,
   "metadata": {},
   "outputs": [
    {
     "name": "stdout",
     "output_type": "stream",
     "text": [
      "engine-size          3155.491815\n",
      "horsepower           3214.009086\n",
      "highway-mpg          3933.959041\n",
      "city-mpg             4168.776418\n",
      "curb-weight          4196.662842\n",
      "width                4519.982861\n",
      "num-of-cylinders     4843.706731\n",
      "compression-ratio    5619.988635\n",
      "length               5764.838620\n",
      "stroke               6175.607887\n",
      "bore                 6198.945875\n",
      "peak-rpm             6704.444500\n",
      "normalized-losses    7156.784356\n",
      "wheel-base           7744.176161\n",
      "symboling            7804.650855\n",
      "height               7861.991622\n",
      "num-of-doors         8936.698797\n",
      "dtype: float64\n"
     ]
    }
   ],
   "source": [
    "rmses = {}\n",
    "target = 'price'\n",
    "for col in scaled_cars.columns.drop('price'):\n",
    "    rmses[col] = knn_train_test(scaled_cars, [col], target)\n",
    "print(pd.Series(rmses).sort_values())"
   ]
  },
  {
   "cell_type": "markdown",
   "metadata": {},
   "source": [
    "We now fit the model over various values of `k` and plot the RMSE values to find the optimal k for the case of training with just `horsepower`."
   ]
  },
  {
   "cell_type": "code",
   "execution_count": 29,
   "metadata": {},
   "outputs": [
    {
     "name": "stdout",
     "output_type": "stream",
     "text": [
      "     symboling  normalized-losses  num-of-doors   wheel-base       length  \\\n",
      "1  6951.584722       11975.771220  25178.447202  4463.054225  4697.593931   \n",
      "3  9166.864572        8964.508531   9446.909231  7231.814856  5198.042474   \n",
      "5  7804.650855        7156.784356   8936.698797  7744.176161  5764.838620   \n",
      "7  7231.382769        6950.052006   9265.548939  7052.517859  5835.831976   \n",
      "9  6756.641552        7355.334516   8964.497443  6668.522647  5822.859915   \n",
      "\n",
      "         width       height  curb-weight  num-of-cylinders  engine-size  \\\n",
      "1  3712.462231  7785.733913  5553.198812       5286.540847  3451.629437   \n",
      "3  4060.698144  6707.084667  4619.278588       5201.812004  2780.128982   \n",
      "5  4519.982861  7861.991622  4196.662842       4843.706731  3155.491815   \n",
      "7  4297.673183  7068.788544  4107.160771       4789.089545  3095.507685   \n",
      "9  4263.779824  7721.998332  4202.405423       4863.112404  3253.430887   \n",
      "\n",
      "          bore       stroke  compression-ratio   horsepower     peak-rpm  \\\n",
      "1  6745.612574  8941.937239        5402.428701  2549.288348  6958.279544   \n",
      "3  6498.472236  7025.965101        4780.661981  2732.372752  6252.625002   \n",
      "5  6198.945875  6175.607887        5619.988635  3214.009086  6704.444500   \n",
      "7  6332.105852  6580.675642        6208.019254  3456.412137  6765.504021   \n",
      "9  6386.050259  6786.078765        6086.807004  3724.405890  7086.429284   \n",
      "\n",
      "      city-mpg  highway-mpg  \n",
      "1  6716.282305  5036.668871  \n",
      "3  4108.283571  4109.992484  \n",
      "5  4168.776418  3933.959041  \n",
      "7  4517.245236  4061.205325  \n",
      "9  4689.689950  4049.568154  \n"
     ]
    }
   ],
   "source": [
    "# Grid search over k\n",
    "k_vals = [1,3,5,7,9]\n",
    "rmses_grid = {}\n",
    "for col in scaled_cars.columns.drop('price'):\n",
    "    rmses = {}\n",
    "    for k in k_vals:\n",
    "        rmses[k] = knn_train_test(scaled_cars, [col], 'price', k)\n",
    "    rmses_grid[col] = rmses\n",
    "print(pd.DataFrame(rmses_grid))"
   ]
  },
  {
   "cell_type": "code",
   "execution_count": 30,
   "metadata": {},
   "outputs": [
    {
     "data": {
      "image/png": "[encoded data removed]",
      "text/plain": [
       "<Figure size 432x288 with 1 Axes>"
      ]
     },
     "metadata": {
      "needs_background": "light"
     },
     "output_type": "display_data"
    }
   ],
   "source": [
    "# Plot RMSE for each column\n",
    "for k,v in rmses_grid.items():\n",
    "    x = list(v.keys())\n",
    "    y = list(v.values())\n",
    "    \n",
    "    plt.plot(x,y)\n",
    "    plt.xlabel('k')\n",
    "    plt.ylabel('RMSE')"
   ]
  },
  {
   "cell_type": "markdown",
   "metadata": {},
   "source": [
    "It is hard to tell from the above plot what exactly the optimal `k` value is, but at a glance, it appears that it could be `k=3` or `k=5`. Note, however, that the optimal `k` will also depend on the random seed, because the row indices were permuted before train/test split assignments."
   ]
  },
  {
   "cell_type": "markdown",
   "metadata": {},
   "source": [
    "## Multivariate Case"
   ]
  },
  {
   "cell_type": "markdown",
   "metadata": {},
   "source": [
    "Usually when we run a KNN, we want to use multiple features to improve the prediction accuracy. We now consider the multivariate case. We'll begin by using all features."
   ]
  },
  {
   "cell_type": "code",
   "execution_count": 31,
   "metadata": {},
   "outputs": [
    {
     "name": "stdout",
     "output_type": "stream",
     "text": [
      "4200.3203805986195\n"
     ]
    }
   ],
   "source": [
    "all_features = scaled_cars.columns.drop('price').tolist()\n",
    "target = 'price'\n",
    "rmse_all_Features = knn_train_test(scaled_cars, all_features, target)\n",
    "print(rmse_all_Features)"
   ]
  },
  {
   "cell_type": "markdown",
   "metadata": {},
   "source": [
    "Using all features runs the danger of overfitting. So, for this project, we will perform feature seelction by selecting `q` features with the lowest RMSE from the univariate models we fit above, using `k=5`, as that value of `k` appeared to be reasonable."
   ]
  },
  {
   "cell_type": "code",
   "execution_count": 32,
   "metadata": {},
   "outputs": [],
   "source": [
    "# Select q best features based on RMSE from univariate grid search\n",
    "def best_features(rmses_grid, q):\n",
    "    return (pd.DataFrame(rmses_grid).loc[5]         # k = 5\n",
    "                                    .sort_values()  # sort by RMSE\n",
    "                                    .head(q)        # select q features\n",
    "                                    .index          # get feature names\n",
    "                                    .tolist())      # convert to list"
   ]
  },
  {
   "cell_type": "code",
   "execution_count": 33,
   "metadata": {},
   "outputs": [
    {
     "data": {
      "text/html": [
       "<div>\n",
       "<style scoped>\n",
       "    .dataframe tbody tr th:only-of-type {\n",
       "        vertical-align: middle;\n",
       "    }\n",
       "\n",
       "    .dataframe tbody tr th {\n",
       "        vertical-align: top;\n",
       "    }\n",
       "\n",
       "    .dataframe thead th {\n",
       "        text-align: right;\n",
       "    }\n",
       "</style>\n",
       "<table border=\"1\" class=\"dataframe\">\n",
       "  <thead>\n",
       "    <tr style=\"text-align: right;\">\n",
       "      <th></th>\n",
       "      <th>2</th>\n",
       "      <th>3</th>\n",
       "      <th>4</th>\n",
       "      <th>5</th>\n",
       "    </tr>\n",
       "  </thead>\n",
       "  <tbody>\n",
       "    <tr>\n",
       "      <th>features</th>\n",
       "      <td>[engine-size, horsepower]</td>\n",
       "      <td>[engine-size, horsepower, highway-mpg]</td>\n",
       "      <td>[engine-size, horsepower, highway-mpg, city-mpg]</td>\n",
       "      <td>[engine-size, horsepower, highway-mpg, city-mp...</td>\n",
       "    </tr>\n",
       "    <tr>\n",
       "      <th>rmse</th>\n",
       "      <td>2603.57</td>\n",
       "      <td>2506.07</td>\n",
       "      <td>2513.3</td>\n",
       "      <td>3286.86</td>\n",
       "    </tr>\n",
       "  </tbody>\n",
       "</table>\n",
       "</div>"
      ],
      "text/plain": [
       "                                  2                                       3  \\\n",
       "features  [engine-size, horsepower]  [engine-size, horsepower, highway-mpg]   \n",
       "rmse                        2603.57                                 2506.07   \n",
       "\n",
       "                                                         4  \\\n",
       "features  [engine-size, horsepower, highway-mpg, city-mpg]   \n",
       "rmse                                                2513.3   \n",
       "\n",
       "                                                          5  \n",
       "features  [engine-size, horsepower, highway-mpg, city-mp...  \n",
       "rmse                                                3286.86  "
      ]
     },
     "execution_count": 33,
     "metadata": {},
     "output_type": "execute_result"
    }
   ],
   "source": [
    "# Dict to store RMSE per q features\n",
    "rmse_q_features = {}\n",
    "\n",
    "# Select the features with the lowest RMSE for k=5\n",
    "q_list = [2,3,4,5]\n",
    "target = 'price'\n",
    "\n",
    "# Perform grid search\n",
    "for q in q_list:\n",
    "    train_col = best_features(rmses_grid, q)\n",
    "    rmse = knn_train_test(scaled_cars, train_col, target)\n",
    "    rmse_q_features[q] = {'features': train_col,\n",
    "                          'rmse': rmse}\n",
    "    \n",
    "pd.DataFrame(rmse_q_features)"
   ]
  },
  {
   "cell_type": "markdown",
   "metadata": {},
   "source": [
    "It appears that using 2-4 features is the best, as they all provide comparable RMSE values. In order of ascending RMSE from the univariate case, these features are:\n",
    "\n",
    "* engine size\n",
    "* horsepower\n",
    "* highway MPG\n",
    "* city MPG\n",
    "\n",
    "Interestingly, these features all have to do with car performance in terms of raw power and fuel efficiency.\n",
    "\n",
    "Next, we will find the optimal k by plotting RMSE vs `k` in a similar manner that we did in the univariate case."
   ]
  },
  {
   "cell_type": "code",
   "execution_count": 34,
   "metadata": {},
   "outputs": [],
   "source": [
    "rmse_q_k_features = {} # dict to store rmse per value of k\n",
    "target = 'price'\n",
    "\n",
    "# Perform grid search of RMSE for 2-4 features, k = 1:25\n",
    "for q in range(2,5):\n",
    "    rmses = {}\n",
    "    train_col = rmse_q_features[q]['features']\n",
    "    for k in range(1,26):\n",
    "        rmses[k] = knn_train_test(scaled_cars, train_col, target, k)\n",
    "    rmse_q_k_features[q] = rmses"
   ]
  },
  {
   "cell_type": "code",
   "execution_count": 35,
   "metadata": {},
   "outputs": [
    {
     "data": {
      "image/png": "[encoded data removed]",
      "text/plain": [
       "<Figure size 432x288 with 1 Axes>"
      ]
     },
     "metadata": {
      "needs_background": "light"
     },
     "output_type": "display_data"
    }
   ],
   "source": [
    "# Plot RMSE\n",
    "for k,v in rmse_q_k_features.items():\n",
    "    x = list(v.keys())\n",
    "    y = list(v.values())\n",
    "    \n",
    "    plt.plot(x,y)\n",
    "\n",
    "plt.xlabel('k')\n",
    "plt.ylabel('RMSE')\n",
    "plt.title('RMSE vs k')\n",
    "plt.legend(['2 features','3 features','4 features'])\n",
    "plt.show()"
   ]
  },
  {
   "cell_type": "markdown",
   "metadata": {},
   "source": [
    "We can see that the optimal `k` value for each model is as follows:\n",
    "\n",
    "|  Number of Features |  optimal k |\n",
    "|---------------------|------------|\n",
    "| 2                   | 3          |\n",
    "| 3                   | 5          |\n",
    "| 4                   | 4          |\n",
    "\n",
    "As for the best model going by RMSE alone, it appears to be with 2 features only concerning engine size and horsepower with `k=3`. However, since using 4 features which also cover fuel effiency with `k=5` has very similar RMSE performance, it makes sense to use the bigger model in this case for better generalizability, as using only 2 features may have high bias in this case.\n",
    "\n",
    "Note too that these values were for only one seed. An alternate approach could be to average over many random seeds for better generalizability."
   ]
  },
  {
   "cell_type": "markdown",
   "metadata": {},
   "source": [
    "# Final Model"
   ]
  },
  {
   "cell_type": "markdown",
   "metadata": {},
   "source": [
    "The final model we decided on and trained uses car performance and fuel effiency to make predictions about the price, and has an RMSE of about $2,500, meaning that it should make predictions within that much error. Let's take a modified versino of our training function to spit out a model to make predictions with."
   ]
  },
  {
   "cell_type": "code",
   "execution_count": 36,
   "metadata": {},
   "outputs": [],
   "source": [
    "# Train: list of training column names\n",
    "# Target: str, name of target column\n",
    "def knn_train(df, train_col, target_col, k=5, seed=3928678):\n",
    "    # Split training into 70-30\n",
    "    M = df.shape[0]\n",
    "    train_m = int(M * 0.7)\n",
    "    \n",
    "    # Permute indices before assigning splits\n",
    "    np.random.seed(seed)\n",
    "    perm_index = np.random.permutation(M)\n",
    "    df = df.iloc[perm_index]\n",
    "    train_df = df.iloc[:train_m]\n",
    "    test_df = df.iloc[train_m:]\n",
    "    \n",
    "    # Run KNN model and return RMSE\n",
    "    model = KNeighborsRegressor(k)\n",
    "    model.fit(train_df[train_col], train_df[target_col])\n",
    "    \n",
    "    return model"
   ]
  },
  {
   "cell_type": "markdown",
   "metadata": {},
   "source": [
    "Let's find out what our model would price a car with the following stats:\n",
    "\n",
    "* Engine size 110\n",
    "* Horsepower 300\n",
    "* Highway MPG 34\n",
    "* City MPG 28\n",
    "\n",
    "Recall that our model was fit on scaled features. So, to make predictions, we need to apply the same scaling we used in training the model."
   ]
  },
  {
   "cell_type": "code",
   "execution_count": 37,
   "metadata": {},
   "outputs": [],
   "source": [
    "best_model = knn_train(scaled_cars, best_features(rmses_grid, 4), 'price')"
   ]
  },
  {
   "cell_type": "code",
   "execution_count": 38,
   "metadata": {},
   "outputs": [],
   "source": [
    "def scale_feature(values,df=cars,features=['engine-size', 'horsepower', 'highway-mpg', 'city-mpg']):\n",
    "    scaled_df = df[features]\n",
    "    scaled_vals = (values - scaled_df.min()) / (scaled_df.max() - scaled_df.min())\n",
    "    \n",
    "    return(list(scaled_vals))"
   ]
  },
  {
   "cell_type": "code",
   "execution_count": 39,
   "metadata": {},
   "outputs": [
    {
     "data": {
      "text/plain": [
       "array([27957.2])"
      ]
     },
     "execution_count": 39,
     "metadata": {},
     "output_type": "execute_result"
    }
   ],
   "source": [
    "my_car = scale_feature([110,300,34,28])\n",
    "best_model.predict([my_car])"
   ]
  },
  {
   "cell_type": "markdown",
   "metadata": {},
   "source": [
    "Looks like about $28,000. Pretty good price!\n",
    "\n",
    "How about a less effient, less powerful car?\n",
    "\n",
    "* Engine size 75\n",
    "* Horsepower 170\n",
    "* Highway MPG 42\n",
    "* City MPG 36"
   ]
  },
  {
   "cell_type": "code",
   "execution_count": 40,
   "metadata": {},
   "outputs": [
    {
     "data": {
      "text/plain": [
       "array([6954.6])"
      ]
     },
     "execution_count": 40,
     "metadata": {},
     "output_type": "execute_result"
    }
   ],
   "source": [
    "my_car = scale_feature([75,170,42,36])\n",
    "best_model.predict([my_car])"
   ]
  },
  {
   "cell_type": "markdown",
   "metadata": {},
   "source": [
    "Only $7,000 for our puny but efficient car. Not a bad deal for someone looking to save money, perhaps."
   ]
  },
  {
   "cell_type": "markdown",
   "metadata": {},
   "source": [
    "# Conclusion"
   ]
  },
  {
   "cell_type": "markdown",
   "metadata": {},
   "source": [
    "KNN is a good model to use when you want to predict an outcome based on similarity of attributes to other objects. \n",
    "\n",
    "In this case, we came up with a model to predict car prices based on car performance and fuel effiency. The model can then be operationalized by plugging in the relevant car specs to obtain a predicted price. An example of where this might be useful is to set a ballpark price for a new auto listing."
   ]
  }
 ],
 "metadata": {
  "kernelspec": {
   "display_name": "Python 3",
   "language": "python",
   "name": "python3"
  },
  "language_info": {
   "codemirror_mode": {
    "name": "ipython",
    "version": 3
   },
   "file_extension": ".py",
   "mimetype": "text/x-python",
   "name": "python",
   "nbconvert_exporter": "python",
   "pygments_lexer": "ipython3",
   "version": "3.7.3"
  }
 },
 "nbformat": 4,
 "nbformat_minor": 4
}
