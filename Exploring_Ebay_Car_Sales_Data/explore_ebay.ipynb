{
 "cells": [
  {
   "cell_type": "markdown",
   "metadata": {},
   "source": [
    "# Exploring Ebay Car Sales Data\n",
    "Author: Jimmy Nguyen"
   ]
  },
  {
   "cell_type": "markdown",
   "metadata": {
    "collapsed": true
   },
   "source": [
    "## Introduction\n",
    "\n",
    "In this project, I look at car sales data from *eBay Kleinanzeigen*, a classifieds section of the German eBay website.\n",
    "\n",
    "Data dictionary for the raw data provided:\n",
    "\n",
    "*  `dateCrawled` - When this ad was first crawled. All field-values are taken from this date.\n",
    "*  `name` - Name of the car.\n",
    "*  `seller` - Whether the seller is private or a dealer.\n",
    "*  `offerType` - The type of listing\n",
    "*  `price` - The price on the ad to sell the car.\n",
    "*  `abtest` - Whether the listing is included in an A/B test.\n",
    "*  `vehicleType` - The vehicle Type.\n",
    "*  `yearOfRegistration` - The year in which the car was first registered.\n",
    "*  `gearbox` - The transmission type.\n",
    "*  `powerPS` - The power of the car in PS.\n",
    "*  `model` - The car model name.\n",
    "*  `kilometer` - How many kilometers the car has driven.\n",
    "*  `monthOfRegistration` - The month in which the car was first registered.\n",
    "*  `fuelType` - What type of fuel the car uses.\n",
    "*  `brand` - The brand of the car.\n",
    "*  `notRepairedDamage` - If the car has a damage which is not yet repaired.\n",
    "*  `dateCreated` - The date on which the eBay listing was created.\n",
    "*  `nrOfPictures` - The number of pictures in the ad.\n",
    "*  `postalCode` - The postal code for the location of the vehicle.\n",
    "*  `lastSeenOnline` - When the crawler saw this ad last online."
   ]
  },
  {
   "cell_type": "code",
   "execution_count": 172,
   "metadata": {
    "collapsed": true
   },
   "outputs": [],
   "source": [
    "# Import data analysis libraries\n",
    "import numpy as np\n",
    "import pandas as pd"
   ]
  },
  {
   "cell_type": "code",
   "execution_count": 173,
   "metadata": {
    "collapsed": false
   },
   "outputs": [],
   "source": [
    "# Read in eBay car sales dataset\n",
    "autos = pd.read_csv(\"autos.csv\", encoding = \"Latin-1\")"
   ]
  },
  {
   "cell_type": "markdown",
   "metadata": {},
   "source": [
    "## Examining The Data\n",
    "This dataset has 50,000 rows and 20 features. Each row is a car sale containing information about the seller and the car sold."
   ]
  },
  {
   "cell_type": "code",
   "execution_count": 174,
   "metadata": {
    "collapsed": false,
    "scrolled": false
   },
   "outputs": [
    {
     "name": "stdout",
     "output_type": "stream",
     "text": [
      "<class 'pandas.core.frame.DataFrame'>\n",
      "RangeIndex: 50000 entries, 0 to 49999\n",
      "Data columns (total 20 columns):\n",
      "dateCrawled            50000 non-null object\n",
      "name                   50000 non-null object\n",
      "seller                 50000 non-null object\n",
      "offerType              50000 non-null object\n",
      "price                  50000 non-null object\n",
      "abtest                 50000 non-null object\n",
      "vehicleType            44905 non-null object\n",
      "yearOfRegistration     50000 non-null int64\n",
      "gearbox                47320 non-null object\n",
      "powerPS                50000 non-null int64\n",
      "model                  47242 non-null object\n",
      "odometer               50000 non-null object\n",
      "monthOfRegistration    50000 non-null int64\n",
      "fuelType               45518 non-null object\n",
      "brand                  50000 non-null object\n",
      "notRepairedDamage      40171 non-null object\n",
      "dateCreated            50000 non-null object\n",
      "nrOfPictures           50000 non-null int64\n",
      "postalCode             50000 non-null int64\n",
      "lastSeen               50000 non-null object\n",
      "dtypes: int64(5), object(15)\n",
      "memory usage: 7.6+ MB\n"
     ]
    },
    {
     "data": {
      "text/html": [
       "<div>\n",
       "<style scoped>\n",
       "    .dataframe tbody tr th:only-of-type {\n",
       "        vertical-align: middle;\n",
       "    }\n",
       "\n",
       "    .dataframe tbody tr th {\n",
       "        vertical-align: top;\n",
       "    }\n",
       "\n",
       "    .dataframe thead th {\n",
       "        text-align: right;\n",
       "    }\n",
       "</style>\n",
       "<table border=\"1\" class=\"dataframe\">\n",
       "  <thead>\n",
       "    <tr style=\"text-align: right;\">\n",
       "      <th></th>\n",
       "      <th>dateCrawled</th>\n",
       "      <th>name</th>\n",
       "      <th>seller</th>\n",
       "      <th>offerType</th>\n",
       "      <th>price</th>\n",
       "      <th>abtest</th>\n",
       "      <th>vehicleType</th>\n",
       "      <th>yearOfRegistration</th>\n",
       "      <th>gearbox</th>\n",
       "      <th>powerPS</th>\n",
       "      <th>model</th>\n",
       "      <th>odometer</th>\n",
       "      <th>monthOfRegistration</th>\n",
       "      <th>fuelType</th>\n",
       "      <th>brand</th>\n",
       "      <th>notRepairedDamage</th>\n",
       "      <th>dateCreated</th>\n",
       "      <th>nrOfPictures</th>\n",
       "      <th>postalCode</th>\n",
       "      <th>lastSeen</th>\n",
       "    </tr>\n",
       "  </thead>\n",
       "  <tbody>\n",
       "    <tr>\n",
       "      <th>0</th>\n",
       "      <td>2016-03-26 17:47:46</td>\n",
       "      <td>Peugeot_807_160_NAVTECH_ON_BOARD</td>\n",
       "      <td>privat</td>\n",
       "      <td>Angebot</td>\n",
       "      <td>$5,000</td>\n",
       "      <td>control</td>\n",
       "      <td>bus</td>\n",
       "      <td>2004</td>\n",
       "      <td>manuell</td>\n",
       "      <td>158</td>\n",
       "      <td>andere</td>\n",
       "      <td>150,000km</td>\n",
       "      <td>3</td>\n",
       "      <td>lpg</td>\n",
       "      <td>peugeot</td>\n",
       "      <td>nein</td>\n",
       "      <td>2016-03-26 00:00:00</td>\n",
       "      <td>0</td>\n",
       "      <td>79588</td>\n",
       "      <td>2016-04-06 06:45:54</td>\n",
       "    </tr>\n",
       "    <tr>\n",
       "      <th>1</th>\n",
       "      <td>2016-04-04 13:38:56</td>\n",
       "      <td>BMW_740i_4_4_Liter_HAMANN_UMBAU_Mega_Optik</td>\n",
       "      <td>privat</td>\n",
       "      <td>Angebot</td>\n",
       "      <td>$8,500</td>\n",
       "      <td>control</td>\n",
       "      <td>limousine</td>\n",
       "      <td>1997</td>\n",
       "      <td>automatik</td>\n",
       "      <td>286</td>\n",
       "      <td>7er</td>\n",
       "      <td>150,000km</td>\n",
       "      <td>6</td>\n",
       "      <td>benzin</td>\n",
       "      <td>bmw</td>\n",
       "      <td>nein</td>\n",
       "      <td>2016-04-04 00:00:00</td>\n",
       "      <td>0</td>\n",
       "      <td>71034</td>\n",
       "      <td>2016-04-06 14:45:08</td>\n",
       "    </tr>\n",
       "    <tr>\n",
       "      <th>2</th>\n",
       "      <td>2016-03-26 18:57:24</td>\n",
       "      <td>Volkswagen_Golf_1.6_United</td>\n",
       "      <td>privat</td>\n",
       "      <td>Angebot</td>\n",
       "      <td>$8,990</td>\n",
       "      <td>test</td>\n",
       "      <td>limousine</td>\n",
       "      <td>2009</td>\n",
       "      <td>manuell</td>\n",
       "      <td>102</td>\n",
       "      <td>golf</td>\n",
       "      <td>70,000km</td>\n",
       "      <td>7</td>\n",
       "      <td>benzin</td>\n",
       "      <td>volkswagen</td>\n",
       "      <td>nein</td>\n",
       "      <td>2016-03-26 00:00:00</td>\n",
       "      <td>0</td>\n",
       "      <td>35394</td>\n",
       "      <td>2016-04-06 20:15:37</td>\n",
       "    </tr>\n",
       "    <tr>\n",
       "      <th>3</th>\n",
       "      <td>2016-03-12 16:58:10</td>\n",
       "      <td>Smart_smart_fortwo_coupe_softouch/F1/Klima/Pan...</td>\n",
       "      <td>privat</td>\n",
       "      <td>Angebot</td>\n",
       "      <td>$4,350</td>\n",
       "      <td>control</td>\n",
       "      <td>kleinwagen</td>\n",
       "      <td>2007</td>\n",
       "      <td>automatik</td>\n",
       "      <td>71</td>\n",
       "      <td>fortwo</td>\n",
       "      <td>70,000km</td>\n",
       "      <td>6</td>\n",
       "      <td>benzin</td>\n",
       "      <td>smart</td>\n",
       "      <td>nein</td>\n",
       "      <td>2016-03-12 00:00:00</td>\n",
       "      <td>0</td>\n",
       "      <td>33729</td>\n",
       "      <td>2016-03-15 03:16:28</td>\n",
       "    </tr>\n",
       "    <tr>\n",
       "      <th>4</th>\n",
       "      <td>2016-04-01 14:38:50</td>\n",
       "      <td>Ford_Focus_1_6_Benzin_TÜV_neu_ist_sehr_gepfleg...</td>\n",
       "      <td>privat</td>\n",
       "      <td>Angebot</td>\n",
       "      <td>$1,350</td>\n",
       "      <td>test</td>\n",
       "      <td>kombi</td>\n",
       "      <td>2003</td>\n",
       "      <td>manuell</td>\n",
       "      <td>0</td>\n",
       "      <td>focus</td>\n",
       "      <td>150,000km</td>\n",
       "      <td>7</td>\n",
       "      <td>benzin</td>\n",
       "      <td>ford</td>\n",
       "      <td>nein</td>\n",
       "      <td>2016-04-01 00:00:00</td>\n",
       "      <td>0</td>\n",
       "      <td>39218</td>\n",
       "      <td>2016-04-01 14:38:50</td>\n",
       "    </tr>\n",
       "  </tbody>\n",
       "</table>\n",
       "</div>"
      ],
      "text/plain": [
       "           dateCrawled                                               name  \\\n",
       "0  2016-03-26 17:47:46                   Peugeot_807_160_NAVTECH_ON_BOARD   \n",
       "1  2016-04-04 13:38:56         BMW_740i_4_4_Liter_HAMANN_UMBAU_Mega_Optik   \n",
       "2  2016-03-26 18:57:24                         Volkswagen_Golf_1.6_United   \n",
       "3  2016-03-12 16:58:10  Smart_smart_fortwo_coupe_softouch/F1/Klima/Pan...   \n",
       "4  2016-04-01 14:38:50  Ford_Focus_1_6_Benzin_TÜV_neu_ist_sehr_gepfleg...   \n",
       "\n",
       "   seller offerType   price   abtest vehicleType  yearOfRegistration  \\\n",
       "0  privat   Angebot  $5,000  control         bus                2004   \n",
       "1  privat   Angebot  $8,500  control   limousine                1997   \n",
       "2  privat   Angebot  $8,990     test   limousine                2009   \n",
       "3  privat   Angebot  $4,350  control  kleinwagen                2007   \n",
       "4  privat   Angebot  $1,350     test       kombi                2003   \n",
       "\n",
       "     gearbox  powerPS   model   odometer  monthOfRegistration fuelType  \\\n",
       "0    manuell      158  andere  150,000km                    3      lpg   \n",
       "1  automatik      286     7er  150,000km                    6   benzin   \n",
       "2    manuell      102    golf   70,000km                    7   benzin   \n",
       "3  automatik       71  fortwo   70,000km                    6   benzin   \n",
       "4    manuell        0   focus  150,000km                    7   benzin   \n",
       "\n",
       "        brand notRepairedDamage          dateCreated  nrOfPictures  \\\n",
       "0     peugeot              nein  2016-03-26 00:00:00             0   \n",
       "1         bmw              nein  2016-04-04 00:00:00             0   \n",
       "2  volkswagen              nein  2016-03-26 00:00:00             0   \n",
       "3       smart              nein  2016-03-12 00:00:00             0   \n",
       "4        ford              nein  2016-04-01 00:00:00             0   \n",
       "\n",
       "   postalCode             lastSeen  \n",
       "0       79588  2016-04-06 06:45:54  \n",
       "1       71034  2016-04-06 14:45:08  \n",
       "2       35394  2016-04-06 20:15:37  \n",
       "3       33729  2016-03-15 03:16:28  \n",
       "4       39218  2016-04-01 14:38:50  "
      ]
     },
     "execution_count": 174,
     "metadata": {},
     "output_type": "execute_result"
    }
   ],
   "source": [
    "# Print basic information about the dataset\n",
    "autos.info()\n",
    "autos.head()"
   ]
  },
  {
   "cell_type": "markdown",
   "metadata": {},
   "source": [
    "## Data Cleaning"
   ]
  },
  {
   "cell_type": "markdown",
   "metadata": {},
   "source": [
    "### Cleaning up column names\n",
    "Let's convert the column names to Python's preferred `snake_case` and rename the columns to facilitate working with the data.\n",
    "\n",
    "We'll accomplish this by manually renaming some columns, and then using `regex` matching to insert underscores between camelCase words, and then finally making all column names lower case using `Series.str.lower()`."
   ]
  },
  {
   "cell_type": "code",
   "execution_count": 175,
   "metadata": {
    "collapsed": false
   },
   "outputs": [
    {
     "data": {
      "text/plain": [
       "['date_crawled',\n",
       " 'name',\n",
       " 'seller',\n",
       " 'offer_type',\n",
       " 'price',\n",
       " 'abtest',\n",
       " 'vehicle_type',\n",
       " 'registration_year',\n",
       " 'gearbox',\n",
       " 'powerps',\n",
       " 'model',\n",
       " 'odometer',\n",
       " 'registration_month',\n",
       " 'fuel_type',\n",
       " 'brand',\n",
       " 'unrepaired_damage',\n",
       " 'ad_created',\n",
       " 'nr_of_pictures',\n",
       " 'postal_code',\n",
       " 'last_seen']"
      ]
     },
     "execution_count": 175,
     "metadata": {},
     "output_type": "execute_result"
    }
   ],
   "source": [
    "# Convert column names from camelCase to snake_case\n",
    "autos.columns = (autos.columns\n",
    "         .str.replace('yearOfRegistration', 'registration_year')\n",
    "         .str.replace('monthOfRegistration', 'registration_month')\n",
    "         .str.replace('notRepairedDamage', 'unrepaired_damage')\n",
    "         .str.replace('dateCreated', 'ad_created')\n",
    "         .str.replace(r'([A-Z][a-z]+)', r'_\\1') # insert _ between words\n",
    "         .str.lower()\n",
    "    )\n",
    "list(autos)"
   ]
  },
  {
   "cell_type": "markdown",
   "metadata": {},
   "source": [
    "### Missing Values and Outliers"
   ]
  },
  {
   "cell_type": "code",
   "execution_count": 176,
   "metadata": {
    "collapsed": false,
    "scrolled": true
   },
   "outputs": [
    {
     "data": {
      "text/plain": [
       "date_crawled           0.000\n",
       "name                   0.000\n",
       "seller                 0.000\n",
       "offer_type             0.000\n",
       "price                  0.000\n",
       "abtest                 0.000\n",
       "vehicle_type          10.190\n",
       "registration_year      0.000\n",
       "gearbox                5.360\n",
       "powerps                0.000\n",
       "model                  5.516\n",
       "odometer               0.000\n",
       "registration_month     0.000\n",
       "fuel_type              8.964\n",
       "brand                  0.000\n",
       "unrepaired_damage     19.658\n",
       "ad_created             0.000\n",
       "nr_of_pictures         0.000\n",
       "postal_code            0.000\n",
       "last_seen              0.000\n",
       "dtype: float64"
      ]
     },
     "execution_count": 176,
     "metadata": {},
     "output_type": "execute_result"
    }
   ],
   "source": [
    "# Calculate percentage of missing features\n",
    "autos.isnull().sum()/autos.shape[0] * 100"
   ]
  },
  {
   "cell_type": "markdown",
   "metadata": {},
   "source": [
    "Our dataset is fairly complete, missing no more than 20% of values in any feature.\n",
    "\n",
    "Only 5 features have missing entries:\n",
    "* vehicle type (10.1% missing)\n",
    "* gearbox (5.3% missing)\n",
    "* model (5.5% missing)\n",
    "* fuel type (9.0% missing)\n",
    "* whether damage was repaired (19.7%)"
   ]
  },
  {
   "cell_type": "markdown",
   "metadata": {
    "collapsed": false
   },
   "source": [
    "### Data Integrity\n",
    "Next, we use basic descriptive statistics to check data integrity."
   ]
  },
  {
   "cell_type": "code",
   "execution_count": 179,
   "metadata": {
    "collapsed": false
   },
   "outputs": [
    {
     "data": {
      "text/html": [
       "<div>\n",
       "<style scoped>\n",
       "    .dataframe tbody tr th:only-of-type {\n",
       "        vertical-align: middle;\n",
       "    }\n",
       "\n",
       "    .dataframe tbody tr th {\n",
       "        vertical-align: top;\n",
       "    }\n",
       "\n",
       "    .dataframe thead th {\n",
       "        text-align: right;\n",
       "    }\n",
       "</style>\n",
       "<table border=\"1\" class=\"dataframe\">\n",
       "  <thead>\n",
       "    <tr style=\"text-align: right;\">\n",
       "      <th></th>\n",
       "      <th>registration_year</th>\n",
       "      <th>powerps</th>\n",
       "      <th>registration_month</th>\n",
       "      <th>nr_of_pictures</th>\n",
       "      <th>postal_code</th>\n",
       "    </tr>\n",
       "  </thead>\n",
       "  <tbody>\n",
       "    <tr>\n",
       "      <th>count</th>\n",
       "      <td>50000.000000</td>\n",
       "      <td>50000.000000</td>\n",
       "      <td>50000.000000</td>\n",
       "      <td>50000.0</td>\n",
       "      <td>50000.000000</td>\n",
       "    </tr>\n",
       "    <tr>\n",
       "      <th>mean</th>\n",
       "      <td>2005.073280</td>\n",
       "      <td>116.355920</td>\n",
       "      <td>5.723360</td>\n",
       "      <td>0.0</td>\n",
       "      <td>50813.627300</td>\n",
       "    </tr>\n",
       "    <tr>\n",
       "      <th>std</th>\n",
       "      <td>105.712813</td>\n",
       "      <td>209.216627</td>\n",
       "      <td>3.711984</td>\n",
       "      <td>0.0</td>\n",
       "      <td>25779.747957</td>\n",
       "    </tr>\n",
       "    <tr>\n",
       "      <th>min</th>\n",
       "      <td>1000.000000</td>\n",
       "      <td>0.000000</td>\n",
       "      <td>0.000000</td>\n",
       "      <td>0.0</td>\n",
       "      <td>1067.000000</td>\n",
       "    </tr>\n",
       "    <tr>\n",
       "      <th>25%</th>\n",
       "      <td>1999.000000</td>\n",
       "      <td>70.000000</td>\n",
       "      <td>3.000000</td>\n",
       "      <td>0.0</td>\n",
       "      <td>30451.000000</td>\n",
       "    </tr>\n",
       "    <tr>\n",
       "      <th>50%</th>\n",
       "      <td>2003.000000</td>\n",
       "      <td>105.000000</td>\n",
       "      <td>6.000000</td>\n",
       "      <td>0.0</td>\n",
       "      <td>49577.000000</td>\n",
       "    </tr>\n",
       "    <tr>\n",
       "      <th>75%</th>\n",
       "      <td>2008.000000</td>\n",
       "      <td>150.000000</td>\n",
       "      <td>9.000000</td>\n",
       "      <td>0.0</td>\n",
       "      <td>71540.000000</td>\n",
       "    </tr>\n",
       "    <tr>\n",
       "      <th>max</th>\n",
       "      <td>9999.000000</td>\n",
       "      <td>17700.000000</td>\n",
       "      <td>12.000000</td>\n",
       "      <td>0.0</td>\n",
       "      <td>99998.000000</td>\n",
       "    </tr>\n",
       "  </tbody>\n",
       "</table>\n",
       "</div>"
      ],
      "text/plain": [
       "       registration_year       powerps  registration_month  nr_of_pictures  \\\n",
       "count       50000.000000  50000.000000        50000.000000         50000.0   \n",
       "mean         2005.073280    116.355920            5.723360             0.0   \n",
       "std           105.712813    209.216627            3.711984             0.0   \n",
       "min          1000.000000      0.000000            0.000000             0.0   \n",
       "25%          1999.000000     70.000000            3.000000             0.0   \n",
       "50%          2003.000000    105.000000            6.000000             0.0   \n",
       "75%          2008.000000    150.000000            9.000000             0.0   \n",
       "max          9999.000000  17700.000000           12.000000             0.0   \n",
       "\n",
       "        postal_code  \n",
       "count  50000.000000  \n",
       "mean   50813.627300  \n",
       "std    25779.747957  \n",
       "min     1067.000000  \n",
       "25%    30451.000000  \n",
       "50%    49577.000000  \n",
       "75%    71540.000000  \n",
       "max    99998.000000  "
      ]
     },
     "execution_count": 179,
     "metadata": {},
     "output_type": "execute_result"
    }
   ],
   "source": [
    "# Descriptive statistics for numeric data\n",
    "autos.describe()"
   ]
  },
  {
   "cell_type": "code",
   "execution_count": 180,
   "metadata": {
    "collapsed": false
   },
   "outputs": [
    {
     "data": {
      "text/html": [
       "<div>\n",
       "<style scoped>\n",
       "    .dataframe tbody tr th:only-of-type {\n",
       "        vertical-align: middle;\n",
       "    }\n",
       "\n",
       "    .dataframe tbody tr th {\n",
       "        vertical-align: top;\n",
       "    }\n",
       "\n",
       "    .dataframe thead th {\n",
       "        text-align: right;\n",
       "    }\n",
       "</style>\n",
       "<table border=\"1\" class=\"dataframe\">\n",
       "  <thead>\n",
       "    <tr style=\"text-align: right;\">\n",
       "      <th></th>\n",
       "      <th>date_crawled</th>\n",
       "      <th>name</th>\n",
       "      <th>seller</th>\n",
       "      <th>offer_type</th>\n",
       "      <th>price</th>\n",
       "      <th>abtest</th>\n",
       "      <th>vehicle_type</th>\n",
       "      <th>gearbox</th>\n",
       "      <th>model</th>\n",
       "      <th>odometer</th>\n",
       "      <th>fuel_type</th>\n",
       "      <th>brand</th>\n",
       "      <th>unrepaired_damage</th>\n",
       "      <th>ad_created</th>\n",
       "      <th>last_seen</th>\n",
       "    </tr>\n",
       "  </thead>\n",
       "  <tbody>\n",
       "    <tr>\n",
       "      <th>count</th>\n",
       "      <td>50000</td>\n",
       "      <td>50000</td>\n",
       "      <td>50000</td>\n",
       "      <td>50000</td>\n",
       "      <td>50000</td>\n",
       "      <td>50000</td>\n",
       "      <td>44905</td>\n",
       "      <td>47320</td>\n",
       "      <td>47242</td>\n",
       "      <td>50000</td>\n",
       "      <td>45518</td>\n",
       "      <td>50000</td>\n",
       "      <td>40171</td>\n",
       "      <td>50000</td>\n",
       "      <td>50000</td>\n",
       "    </tr>\n",
       "    <tr>\n",
       "      <th>unique</th>\n",
       "      <td>48213</td>\n",
       "      <td>38754</td>\n",
       "      <td>2</td>\n",
       "      <td>2</td>\n",
       "      <td>2357</td>\n",
       "      <td>2</td>\n",
       "      <td>8</td>\n",
       "      <td>2</td>\n",
       "      <td>245</td>\n",
       "      <td>13</td>\n",
       "      <td>7</td>\n",
       "      <td>40</td>\n",
       "      <td>2</td>\n",
       "      <td>76</td>\n",
       "      <td>39481</td>\n",
       "    </tr>\n",
       "    <tr>\n",
       "      <th>top</th>\n",
       "      <td>2016-03-08 10:40:35</td>\n",
       "      <td>Ford_Fiesta</td>\n",
       "      <td>privat</td>\n",
       "      <td>Angebot</td>\n",
       "      <td>$0</td>\n",
       "      <td>test</td>\n",
       "      <td>limousine</td>\n",
       "      <td>manuell</td>\n",
       "      <td>golf</td>\n",
       "      <td>150,000km</td>\n",
       "      <td>benzin</td>\n",
       "      <td>volkswagen</td>\n",
       "      <td>nein</td>\n",
       "      <td>2016-04-03 00:00:00</td>\n",
       "      <td>2016-04-07 06:17:27</td>\n",
       "    </tr>\n",
       "    <tr>\n",
       "      <th>freq</th>\n",
       "      <td>3</td>\n",
       "      <td>78</td>\n",
       "      <td>49999</td>\n",
       "      <td>49999</td>\n",
       "      <td>1421</td>\n",
       "      <td>25756</td>\n",
       "      <td>12859</td>\n",
       "      <td>36993</td>\n",
       "      <td>4024</td>\n",
       "      <td>32424</td>\n",
       "      <td>30107</td>\n",
       "      <td>10687</td>\n",
       "      <td>35232</td>\n",
       "      <td>1946</td>\n",
       "      <td>8</td>\n",
       "    </tr>\n",
       "  </tbody>\n",
       "</table>\n",
       "</div>"
      ],
      "text/plain": [
       "               date_crawled         name  seller offer_type  price abtest  \\\n",
       "count                 50000        50000   50000      50000  50000  50000   \n",
       "unique                48213        38754       2          2   2357      2   \n",
       "top     2016-03-08 10:40:35  Ford_Fiesta  privat    Angebot     $0   test   \n",
       "freq                      3           78   49999      49999   1421  25756   \n",
       "\n",
       "       vehicle_type  gearbox  model   odometer fuel_type       brand  \\\n",
       "count         44905    47320  47242      50000     45518       50000   \n",
       "unique            8        2    245         13         7          40   \n",
       "top       limousine  manuell   golf  150,000km    benzin  volkswagen   \n",
       "freq          12859    36993   4024      32424     30107       10687   \n",
       "\n",
       "       unrepaired_damage           ad_created            last_seen  \n",
       "count              40171                50000                50000  \n",
       "unique                 2                   76                39481  \n",
       "top                 nein  2016-04-03 00:00:00  2016-04-07 06:17:27  \n",
       "freq               35232                 1946                    8  "
      ]
     },
     "execution_count": 180,
     "metadata": {},
     "output_type": "execute_result"
    }
   ],
   "source": [
    "# Descriptive statistics for string data\n",
    "autos.describe(include=['O'])"
   ]
  },
  {
   "cell_type": "markdown",
   "metadata": {},
   "source": [
    "Observations:\n",
    "* `nr_of_pictures`, `seller`, and `offer_type` are monovalued, and so contribute no information\n",
    "* `registration_year` has a maximum of `9999`, which is likely a code for missingness\n",
    "* `registration_month` has a minimum of `0`, which is likely a code for missingness\n",
    "* `powerps` measures PS, where 1 PS $\\approx$ 0.986 HP. A max PS of `17700` likely signals bad data entries\n",
    "* `price` has \\$0 as its mode; it's unlikely that cars were given away for free, so a $0 perhaps means an expired posting\n",
    "\n",
    "We'll investigate registration dates, the listed PS, and the price further."
   ]
  },
  {
   "cell_type": "code",
   "execution_count": 181,
   "metadata": {
    "collapsed": false
   },
   "outputs": [
    {
     "data": {
      "text/plain": [
       "38076    9999\n",
       "33950    9999\n",
       "14341    9999\n",
       "8012     9999\n",
       "6308     9996\n",
       "13559    9000\n",
       "49910    9000\n",
       "25003    8888\n",
       "8360     6200\n",
       "27618    5911\n",
       "24519    5000\n",
       "49153    5000\n",
       "4164     5000\n",
       "22799    5000\n",
       "42079    4800\n",
       "453      4500\n",
       "4549     4100\n",
       "27578    2800\n",
       "49185    2019\n",
       "5763     2019\n",
       "Name: registration_year, dtype: int64"
      ]
     },
     "execution_count": 181,
     "metadata": {},
     "output_type": "execute_result"
    }
   ],
   "source": [
    "# Highest plausible date is 2019\n",
    "autos[\"registration_year\"].sort_values(ascending=False).head(20)"
   ]
  },
  {
   "cell_type": "code",
   "execution_count": 182,
   "metadata": {
    "collapsed": false
   },
   "outputs": [
    {
     "data": {
      "text/plain": [
       "22316    1000\n",
       "49283    1001\n",
       "24511    1111\n",
       "35238    1500\n",
       "10556    1800\n",
       "32585    1800\n",
       "28693    1910\n",
       "42181    1910\n",
       "15898    1910\n",
       "3679     1910\n",
       "30781    1910\n",
       "33295    1910\n",
       "45157    1910\n",
       "22659    1910\n",
       "46213    1910\n",
       "21416    1927\n",
       "22101    1929\n",
       "11246    1931\n",
       "2573     1934\n",
       "2221     1934\n",
       "Name: registration_year, dtype: int64"
      ]
     },
     "execution_count": 182,
     "metadata": {},
     "output_type": "execute_result"
    }
   ],
   "source": [
    "# Cars were invented in 1885, so lowest plausible date is 1910.\n",
    "autos[\"registration_year\"].sort_values().head(20)"
   ]
  },
  {
   "cell_type": "code",
   "execution_count": 183,
   "metadata": {
    "collapsed": false
   },
   "outputs": [
    {
     "data": {
      "text/plain": [
       "5075"
      ]
     },
     "execution_count": 183,
     "metadata": {},
     "output_type": "execute_result"
    }
   ],
   "source": [
    "# 5075 records with registration month 0\n",
    "autos[autos[\"registration_month\"] == 0].shape[0]"
   ]
  },
  {
   "cell_type": "code",
   "execution_count": 223,
   "metadata": {
    "collapsed": false
   },
   "outputs": [
    {
     "data": {
      "text/plain": [
       "54"
      ]
     },
     "execution_count": 223,
     "metadata": {},
     "output_type": "execute_result"
    }
   ],
   "source": [
    "# 54 rows with 1000 or more PS, which is greatly inflated.\n",
    "# If a model is to be run using PS, these values should probably be \n",
    "# manually inspected, or thrown out with little data loss \n",
    "autos[autos[\"powerps\"] >= 1000].shape[0]"
   ]
  },
  {
   "cell_type": "markdown",
   "metadata": {},
   "source": [
    "Further observations:\n",
    "* There are a number of rows with registration years way above `2019`, the year this script was created; these years should be coded as missing\n",
    "* `5075` rows have `0` as the registration month; a possible imputation could use `1` for January and instead rely on the year if registration date is important\n",
    "* `54` rows have `1000` or more PS for cars that obviously don't have that PS; this means that PS is fairly clean, but any modeling effort will need to drop or otherwise correct these values\n",
    "\n",
    "To continue, the `price` and `odometer` columns should be converted to numeric types."
   ]
  },
  {
   "cell_type": "code",
   "execution_count": 185,
   "metadata": {
    "collapsed": false
   },
   "outputs": [],
   "source": [
    "# Check for non-numeric strings\n",
    "autos[\"price\"].str.replace('[0-9|,]+','').unique() # all rows begin with $\n",
    "autos[\"odometer\"].str.replace('[0-9|,]+','').unique() # all rows end in km\n",
    "\n",
    "# Convert price and odometer to float types\n",
    "autos[\"price\"] = autos[\"price\"].str.replace('[^0-9]','').astype(float)\n",
    "autos[\"odometer\"] = autos[\"odometer\"].str.replace('[^0-9]','').astype(float)\n",
    "\n",
    "# Rename odometer to odometer_km to include units in name\n",
    "autos = autos.rename({\"odometer\" : \"odometer_km\"}, axis=1)"
   ]
  },
  {
   "cell_type": "code",
   "execution_count": 186,
   "metadata": {
    "collapsed": false
   },
   "outputs": [
    {
     "data": {
      "text/html": [
       "<div>\n",
       "<style scoped>\n",
       "    .dataframe tbody tr th:only-of-type {\n",
       "        vertical-align: middle;\n",
       "    }\n",
       "\n",
       "    .dataframe tbody tr th {\n",
       "        vertical-align: top;\n",
       "    }\n",
       "\n",
       "    .dataframe thead th {\n",
       "        text-align: right;\n",
       "    }\n",
       "</style>\n",
       "<table border=\"1\" class=\"dataframe\">\n",
       "  <thead>\n",
       "    <tr style=\"text-align: right;\">\n",
       "      <th></th>\n",
       "      <th>price</th>\n",
       "      <th>odometer_km</th>\n",
       "    </tr>\n",
       "  </thead>\n",
       "  <tbody>\n",
       "    <tr>\n",
       "      <th>count</th>\n",
       "      <td>50000.00</td>\n",
       "      <td>50000.00</td>\n",
       "    </tr>\n",
       "    <tr>\n",
       "      <th>mean</th>\n",
       "      <td>9840.04</td>\n",
       "      <td>125732.70</td>\n",
       "    </tr>\n",
       "    <tr>\n",
       "      <th>std</th>\n",
       "      <td>481104.38</td>\n",
       "      <td>40042.21</td>\n",
       "    </tr>\n",
       "    <tr>\n",
       "      <th>min</th>\n",
       "      <td>0.00</td>\n",
       "      <td>5000.00</td>\n",
       "    </tr>\n",
       "    <tr>\n",
       "      <th>25%</th>\n",
       "      <td>1100.00</td>\n",
       "      <td>125000.00</td>\n",
       "    </tr>\n",
       "    <tr>\n",
       "      <th>50%</th>\n",
       "      <td>2950.00</td>\n",
       "      <td>150000.00</td>\n",
       "    </tr>\n",
       "    <tr>\n",
       "      <th>75%</th>\n",
       "      <td>7200.00</td>\n",
       "      <td>150000.00</td>\n",
       "    </tr>\n",
       "    <tr>\n",
       "      <th>max</th>\n",
       "      <td>99999999.00</td>\n",
       "      <td>150000.00</td>\n",
       "    </tr>\n",
       "  </tbody>\n",
       "</table>\n",
       "</div>"
      ],
      "text/plain": [
       "             price odometer_km\n",
       "count     50000.00    50000.00\n",
       "mean       9840.04   125732.70\n",
       "std      481104.38    40042.21\n",
       "min           0.00     5000.00\n",
       "25%        1100.00   125000.00\n",
       "50%        2950.00   150000.00\n",
       "75%        7200.00   150000.00\n",
       "max    99999999.00   150000.00"
      ]
     },
     "execution_count": 186,
     "metadata": {},
     "output_type": "execute_result"
    }
   ],
   "source": [
    "# Descriptive statistics of price and odometer_km, formatted to 2 decimals\n",
    "autos[[\"price\", \"odometer_km\"]].describe().applymap(lambda x: format(x, '.2f'))"
   ]
  },
  {
   "cell_type": "code",
   "execution_count": 187,
   "metadata": {
    "collapsed": false
   },
   "outputs": [
    {
     "data": {
      "text/html": [
       "<div>\n",
       "<style scoped>\n",
       "    .dataframe tbody tr th:only-of-type {\n",
       "        vertical-align: middle;\n",
       "    }\n",
       "\n",
       "    .dataframe tbody tr th {\n",
       "        vertical-align: top;\n",
       "    }\n",
       "\n",
       "    .dataframe thead th {\n",
       "        text-align: right;\n",
       "    }\n",
       "</style>\n",
       "<table border=\"1\" class=\"dataframe\">\n",
       "  <thead>\n",
       "    <tr style=\"text-align: right;\">\n",
       "      <th></th>\n",
       "      <th>date_crawled</th>\n",
       "      <th>name</th>\n",
       "      <th>seller</th>\n",
       "      <th>offer_type</th>\n",
       "      <th>price</th>\n",
       "      <th>abtest</th>\n",
       "      <th>vehicle_type</th>\n",
       "      <th>registration_year</th>\n",
       "      <th>gearbox</th>\n",
       "      <th>powerps</th>\n",
       "      <th>model</th>\n",
       "      <th>odometer_km</th>\n",
       "      <th>registration_month</th>\n",
       "      <th>fuel_type</th>\n",
       "      <th>brand</th>\n",
       "      <th>unrepaired_damage</th>\n",
       "      <th>ad_created</th>\n",
       "      <th>nr_of_pictures</th>\n",
       "      <th>postal_code</th>\n",
       "      <th>last_seen</th>\n",
       "    </tr>\n",
       "  </thead>\n",
       "  <tbody>\n",
       "    <tr>\n",
       "      <th>39705</th>\n",
       "      <td>2016-03-22 14:58:27</td>\n",
       "      <td>Tausch_gegen_gleichwertiges</td>\n",
       "      <td>privat</td>\n",
       "      <td>Angebot</td>\n",
       "      <td>99999999.0</td>\n",
       "      <td>control</td>\n",
       "      <td>limousine</td>\n",
       "      <td>1999</td>\n",
       "      <td>automatik</td>\n",
       "      <td>224</td>\n",
       "      <td>s_klasse</td>\n",
       "      <td>150000.0</td>\n",
       "      <td>9</td>\n",
       "      <td>benzin</td>\n",
       "      <td>mercedes_benz</td>\n",
       "      <td>NaN</td>\n",
       "      <td>2016-03-22 00:00:00</td>\n",
       "      <td>0</td>\n",
       "      <td>73525</td>\n",
       "      <td>2016-04-06 05:15:30</td>\n",
       "    </tr>\n",
       "    <tr>\n",
       "      <th>42221</th>\n",
       "      <td>2016-03-08 20:39:05</td>\n",
       "      <td>Leasinguebernahme</td>\n",
       "      <td>privat</td>\n",
       "      <td>Angebot</td>\n",
       "      <td>27322222.0</td>\n",
       "      <td>control</td>\n",
       "      <td>limousine</td>\n",
       "      <td>2014</td>\n",
       "      <td>manuell</td>\n",
       "      <td>163</td>\n",
       "      <td>c4</td>\n",
       "      <td>40000.0</td>\n",
       "      <td>2</td>\n",
       "      <td>diesel</td>\n",
       "      <td>citroen</td>\n",
       "      <td>NaN</td>\n",
       "      <td>2016-03-08 00:00:00</td>\n",
       "      <td>0</td>\n",
       "      <td>76532</td>\n",
       "      <td>2016-03-08 20:39:05</td>\n",
       "    </tr>\n",
       "    <tr>\n",
       "      <th>27371</th>\n",
       "      <td>2016-03-09 15:45:47</td>\n",
       "      <td>Fiat_Punto</td>\n",
       "      <td>privat</td>\n",
       "      <td>Angebot</td>\n",
       "      <td>12345678.0</td>\n",
       "      <td>control</td>\n",
       "      <td>NaN</td>\n",
       "      <td>2017</td>\n",
       "      <td>NaN</td>\n",
       "      <td>95</td>\n",
       "      <td>punto</td>\n",
       "      <td>150000.0</td>\n",
       "      <td>0</td>\n",
       "      <td>NaN</td>\n",
       "      <td>fiat</td>\n",
       "      <td>NaN</td>\n",
       "      <td>2016-03-09 00:00:00</td>\n",
       "      <td>0</td>\n",
       "      <td>96110</td>\n",
       "      <td>2016-03-09 15:45:47</td>\n",
       "    </tr>\n",
       "    <tr>\n",
       "      <th>39377</th>\n",
       "      <td>2016-03-08 23:53:51</td>\n",
       "      <td>Tausche_volvo_v40_gegen_van</td>\n",
       "      <td>privat</td>\n",
       "      <td>Angebot</td>\n",
       "      <td>12345678.0</td>\n",
       "      <td>control</td>\n",
       "      <td>NaN</td>\n",
       "      <td>2018</td>\n",
       "      <td>manuell</td>\n",
       "      <td>95</td>\n",
       "      <td>v40</td>\n",
       "      <td>150000.0</td>\n",
       "      <td>6</td>\n",
       "      <td>NaN</td>\n",
       "      <td>volvo</td>\n",
       "      <td>nein</td>\n",
       "      <td>2016-03-08 00:00:00</td>\n",
       "      <td>0</td>\n",
       "      <td>14542</td>\n",
       "      <td>2016-04-06 23:17:31</td>\n",
       "    </tr>\n",
       "    <tr>\n",
       "      <th>47598</th>\n",
       "      <td>2016-03-31 18:56:54</td>\n",
       "      <td>Opel_Vectra_B_1_6i_16V_Facelift_Tuning_Showcar...</td>\n",
       "      <td>privat</td>\n",
       "      <td>Angebot</td>\n",
       "      <td>12345678.0</td>\n",
       "      <td>control</td>\n",
       "      <td>limousine</td>\n",
       "      <td>2001</td>\n",
       "      <td>manuell</td>\n",
       "      <td>101</td>\n",
       "      <td>vectra</td>\n",
       "      <td>150000.0</td>\n",
       "      <td>3</td>\n",
       "      <td>benzin</td>\n",
       "      <td>opel</td>\n",
       "      <td>nein</td>\n",
       "      <td>2016-03-31 00:00:00</td>\n",
       "      <td>0</td>\n",
       "      <td>4356</td>\n",
       "      <td>2016-03-31 18:56:54</td>\n",
       "    </tr>\n",
       "    <tr>\n",
       "      <th>2897</th>\n",
       "      <td>2016-03-12 21:50:57</td>\n",
       "      <td>Escort_MK_1_Hundeknochen_zum_umbauen_auf_RS_2000</td>\n",
       "      <td>privat</td>\n",
       "      <td>Angebot</td>\n",
       "      <td>11111111.0</td>\n",
       "      <td>test</td>\n",
       "      <td>limousine</td>\n",
       "      <td>1973</td>\n",
       "      <td>manuell</td>\n",
       "      <td>48</td>\n",
       "      <td>escort</td>\n",
       "      <td>50000.0</td>\n",
       "      <td>3</td>\n",
       "      <td>benzin</td>\n",
       "      <td>ford</td>\n",
       "      <td>nein</td>\n",
       "      <td>2016-03-12 00:00:00</td>\n",
       "      <td>0</td>\n",
       "      <td>94469</td>\n",
       "      <td>2016-03-12 22:45:27</td>\n",
       "    </tr>\n",
       "    <tr>\n",
       "      <th>24384</th>\n",
       "      <td>2016-03-21 13:57:51</td>\n",
       "      <td>Schlachte_Golf_3_gt_tdi</td>\n",
       "      <td>privat</td>\n",
       "      <td>Angebot</td>\n",
       "      <td>11111111.0</td>\n",
       "      <td>test</td>\n",
       "      <td>NaN</td>\n",
       "      <td>1995</td>\n",
       "      <td>NaN</td>\n",
       "      <td>0</td>\n",
       "      <td>NaN</td>\n",
       "      <td>150000.0</td>\n",
       "      <td>0</td>\n",
       "      <td>NaN</td>\n",
       "      <td>volkswagen</td>\n",
       "      <td>NaN</td>\n",
       "      <td>2016-03-21 00:00:00</td>\n",
       "      <td>0</td>\n",
       "      <td>18519</td>\n",
       "      <td>2016-03-21 14:40:18</td>\n",
       "    </tr>\n",
       "    <tr>\n",
       "      <th>11137</th>\n",
       "      <td>2016-03-29 23:52:57</td>\n",
       "      <td>suche_maserati_3200_gt_Zustand_unwichtig_laufe...</td>\n",
       "      <td>privat</td>\n",
       "      <td>Angebot</td>\n",
       "      <td>10000000.0</td>\n",
       "      <td>control</td>\n",
       "      <td>coupe</td>\n",
       "      <td>1960</td>\n",
       "      <td>manuell</td>\n",
       "      <td>368</td>\n",
       "      <td>NaN</td>\n",
       "      <td>100000.0</td>\n",
       "      <td>1</td>\n",
       "      <td>benzin</td>\n",
       "      <td>sonstige_autos</td>\n",
       "      <td>nein</td>\n",
       "      <td>2016-03-29 00:00:00</td>\n",
       "      <td>0</td>\n",
       "      <td>73033</td>\n",
       "      <td>2016-04-06 21:18:11</td>\n",
       "    </tr>\n",
       "    <tr>\n",
       "      <th>47634</th>\n",
       "      <td>2016-04-04 21:25:21</td>\n",
       "      <td>Ferrari_FXX</td>\n",
       "      <td>privat</td>\n",
       "      <td>Angebot</td>\n",
       "      <td>3890000.0</td>\n",
       "      <td>test</td>\n",
       "      <td>coupe</td>\n",
       "      <td>2006</td>\n",
       "      <td>NaN</td>\n",
       "      <td>799</td>\n",
       "      <td>NaN</td>\n",
       "      <td>5000.0</td>\n",
       "      <td>7</td>\n",
       "      <td>NaN</td>\n",
       "      <td>sonstige_autos</td>\n",
       "      <td>nein</td>\n",
       "      <td>2016-04-04 00:00:00</td>\n",
       "      <td>0</td>\n",
       "      <td>60313</td>\n",
       "      <td>2016-04-05 12:07:37</td>\n",
       "    </tr>\n",
       "    <tr>\n",
       "      <th>7814</th>\n",
       "      <td>2016-04-04 11:53:31</td>\n",
       "      <td>Ferrari_F40</td>\n",
       "      <td>privat</td>\n",
       "      <td>Angebot</td>\n",
       "      <td>1300000.0</td>\n",
       "      <td>control</td>\n",
       "      <td>coupe</td>\n",
       "      <td>1992</td>\n",
       "      <td>NaN</td>\n",
       "      <td>0</td>\n",
       "      <td>NaN</td>\n",
       "      <td>50000.0</td>\n",
       "      <td>12</td>\n",
       "      <td>NaN</td>\n",
       "      <td>sonstige_autos</td>\n",
       "      <td>nein</td>\n",
       "      <td>2016-04-04 00:00:00</td>\n",
       "      <td>0</td>\n",
       "      <td>60598</td>\n",
       "      <td>2016-04-05 11:34:11</td>\n",
       "    </tr>\n",
       "    <tr>\n",
       "      <th>22947</th>\n",
       "      <td>2016-03-22 12:54:19</td>\n",
       "      <td>Bmw_530d_zum_ausschlachten</td>\n",
       "      <td>privat</td>\n",
       "      <td>Angebot</td>\n",
       "      <td>1234566.0</td>\n",
       "      <td>control</td>\n",
       "      <td>kombi</td>\n",
       "      <td>1999</td>\n",
       "      <td>automatik</td>\n",
       "      <td>190</td>\n",
       "      <td>NaN</td>\n",
       "      <td>150000.0</td>\n",
       "      <td>2</td>\n",
       "      <td>diesel</td>\n",
       "      <td>bmw</td>\n",
       "      <td>NaN</td>\n",
       "      <td>2016-03-22 00:00:00</td>\n",
       "      <td>0</td>\n",
       "      <td>17454</td>\n",
       "      <td>2016-04-02 03:17:32</td>\n",
       "    </tr>\n",
       "    <tr>\n",
       "      <th>43049</th>\n",
       "      <td>2016-03-21 19:53:52</td>\n",
       "      <td>2_VW_Busse_T3</td>\n",
       "      <td>privat</td>\n",
       "      <td>Angebot</td>\n",
       "      <td>999999.0</td>\n",
       "      <td>test</td>\n",
       "      <td>bus</td>\n",
       "      <td>1981</td>\n",
       "      <td>manuell</td>\n",
       "      <td>70</td>\n",
       "      <td>transporter</td>\n",
       "      <td>150000.0</td>\n",
       "      <td>1</td>\n",
       "      <td>benzin</td>\n",
       "      <td>volkswagen</td>\n",
       "      <td>NaN</td>\n",
       "      <td>2016-03-21 00:00:00</td>\n",
       "      <td>0</td>\n",
       "      <td>99880</td>\n",
       "      <td>2016-03-28 17:18:28</td>\n",
       "    </tr>\n",
       "    <tr>\n",
       "      <th>514</th>\n",
       "      <td>2016-03-17 09:53:08</td>\n",
       "      <td>Ford_Focus_Turnier_1.6_16V_Style</td>\n",
       "      <td>privat</td>\n",
       "      <td>Angebot</td>\n",
       "      <td>999999.0</td>\n",
       "      <td>test</td>\n",
       "      <td>kombi</td>\n",
       "      <td>2009</td>\n",
       "      <td>manuell</td>\n",
       "      <td>101</td>\n",
       "      <td>focus</td>\n",
       "      <td>125000.0</td>\n",
       "      <td>4</td>\n",
       "      <td>benzin</td>\n",
       "      <td>ford</td>\n",
       "      <td>nein</td>\n",
       "      <td>2016-03-17 00:00:00</td>\n",
       "      <td>0</td>\n",
       "      <td>12205</td>\n",
       "      <td>2016-04-06 07:17:35</td>\n",
       "    </tr>\n",
       "    <tr>\n",
       "      <th>37585</th>\n",
       "      <td>2016-03-29 11:38:54</td>\n",
       "      <td>Volkswagen_Jetta_GT</td>\n",
       "      <td>privat</td>\n",
       "      <td>Angebot</td>\n",
       "      <td>999990.0</td>\n",
       "      <td>test</td>\n",
       "      <td>limousine</td>\n",
       "      <td>1985</td>\n",
       "      <td>manuell</td>\n",
       "      <td>111</td>\n",
       "      <td>jetta</td>\n",
       "      <td>150000.0</td>\n",
       "      <td>12</td>\n",
       "      <td>benzin</td>\n",
       "      <td>volkswagen</td>\n",
       "      <td>ja</td>\n",
       "      <td>2016-03-29 00:00:00</td>\n",
       "      <td>0</td>\n",
       "      <td>50997</td>\n",
       "      <td>2016-03-29 11:38:54</td>\n",
       "    </tr>\n",
       "    <tr>\n",
       "      <th>36818</th>\n",
       "      <td>2016-03-27 18:37:37</td>\n",
       "      <td>Porsche_991</td>\n",
       "      <td>privat</td>\n",
       "      <td>Angebot</td>\n",
       "      <td>350000.0</td>\n",
       "      <td>control</td>\n",
       "      <td>coupe</td>\n",
       "      <td>2016</td>\n",
       "      <td>manuell</td>\n",
       "      <td>500</td>\n",
       "      <td>911</td>\n",
       "      <td>5000.0</td>\n",
       "      <td>3</td>\n",
       "      <td>benzin</td>\n",
       "      <td>porsche</td>\n",
       "      <td>nein</td>\n",
       "      <td>2016-03-27 00:00:00</td>\n",
       "      <td>0</td>\n",
       "      <td>70499</td>\n",
       "      <td>2016-03-27 18:37:37</td>\n",
       "    </tr>\n",
       "    <tr>\n",
       "      <th>14715</th>\n",
       "      <td>2016-03-30 08:37:24</td>\n",
       "      <td>Rolls_Royce_Phantom_Drophead_Coupe</td>\n",
       "      <td>privat</td>\n",
       "      <td>Angebot</td>\n",
       "      <td>345000.0</td>\n",
       "      <td>control</td>\n",
       "      <td>cabrio</td>\n",
       "      <td>2012</td>\n",
       "      <td>automatik</td>\n",
       "      <td>460</td>\n",
       "      <td>NaN</td>\n",
       "      <td>20000.0</td>\n",
       "      <td>8</td>\n",
       "      <td>benzin</td>\n",
       "      <td>sonstige_autos</td>\n",
       "      <td>nein</td>\n",
       "      <td>2016-03-30 00:00:00</td>\n",
       "      <td>0</td>\n",
       "      <td>73525</td>\n",
       "      <td>2016-04-07 00:16:26</td>\n",
       "    </tr>\n",
       "    <tr>\n",
       "      <th>34723</th>\n",
       "      <td>2016-03-23 16:37:29</td>\n",
       "      <td>Porsche_Porsche_911/930_Turbo_3.0__deutsche_Au...</td>\n",
       "      <td>privat</td>\n",
       "      <td>Angebot</td>\n",
       "      <td>299000.0</td>\n",
       "      <td>test</td>\n",
       "      <td>coupe</td>\n",
       "      <td>1977</td>\n",
       "      <td>manuell</td>\n",
       "      <td>260</td>\n",
       "      <td>911</td>\n",
       "      <td>100000.0</td>\n",
       "      <td>7</td>\n",
       "      <td>benzin</td>\n",
       "      <td>porsche</td>\n",
       "      <td>nein</td>\n",
       "      <td>2016-03-23 00:00:00</td>\n",
       "      <td>0</td>\n",
       "      <td>61462</td>\n",
       "      <td>2016-04-06 16:44:50</td>\n",
       "    </tr>\n",
       "    <tr>\n",
       "      <th>35923</th>\n",
       "      <td>2016-04-03 07:56:23</td>\n",
       "      <td>Porsche_911_Targa_Exclusive_Edition__1_von_15_...</td>\n",
       "      <td>privat</td>\n",
       "      <td>Angebot</td>\n",
       "      <td>295000.0</td>\n",
       "      <td>test</td>\n",
       "      <td>cabrio</td>\n",
       "      <td>2015</td>\n",
       "      <td>automatik</td>\n",
       "      <td>400</td>\n",
       "      <td>911</td>\n",
       "      <td>5000.0</td>\n",
       "      <td>6</td>\n",
       "      <td>benzin</td>\n",
       "      <td>porsche</td>\n",
       "      <td>nein</td>\n",
       "      <td>2016-04-03 00:00:00</td>\n",
       "      <td>0</td>\n",
       "      <td>74078</td>\n",
       "      <td>2016-04-03 08:56:20</td>\n",
       "    </tr>\n",
       "    <tr>\n",
       "      <th>12682</th>\n",
       "      <td>2016-03-28 22:48:01</td>\n",
       "      <td>Porsche_GT3_RS__PCCB__Lift___grosser_Exklusiv_...</td>\n",
       "      <td>privat</td>\n",
       "      <td>Angebot</td>\n",
       "      <td>265000.0</td>\n",
       "      <td>control</td>\n",
       "      <td>coupe</td>\n",
       "      <td>2016</td>\n",
       "      <td>automatik</td>\n",
       "      <td>500</td>\n",
       "      <td>911</td>\n",
       "      <td>5000.0</td>\n",
       "      <td>3</td>\n",
       "      <td>benzin</td>\n",
       "      <td>porsche</td>\n",
       "      <td>nein</td>\n",
       "      <td>2016-03-28 00:00:00</td>\n",
       "      <td>0</td>\n",
       "      <td>70193</td>\n",
       "      <td>2016-04-05 03:44:51</td>\n",
       "    </tr>\n",
       "    <tr>\n",
       "      <th>47337</th>\n",
       "      <td>2016-04-05 10:25:38</td>\n",
       "      <td>BMW_Z8_roadster</td>\n",
       "      <td>privat</td>\n",
       "      <td>Angebot</td>\n",
       "      <td>259000.0</td>\n",
       "      <td>test</td>\n",
       "      <td>cabrio</td>\n",
       "      <td>2001</td>\n",
       "      <td>manuell</td>\n",
       "      <td>400</td>\n",
       "      <td>z_reihe</td>\n",
       "      <td>20000.0</td>\n",
       "      <td>6</td>\n",
       "      <td>benzin</td>\n",
       "      <td>bmw</td>\n",
       "      <td>nein</td>\n",
       "      <td>2016-04-05 00:00:00</td>\n",
       "      <td>0</td>\n",
       "      <td>61462</td>\n",
       "      <td>2016-04-05 12:07:32</td>\n",
       "    </tr>\n",
       "  </tbody>\n",
       "</table>\n",
       "</div>"
      ],
      "text/plain": [
       "              date_crawled                                               name  \\\n",
       "39705  2016-03-22 14:58:27                        Tausch_gegen_gleichwertiges   \n",
       "42221  2016-03-08 20:39:05                                  Leasinguebernahme   \n",
       "27371  2016-03-09 15:45:47                                         Fiat_Punto   \n",
       "39377  2016-03-08 23:53:51                        Tausche_volvo_v40_gegen_van   \n",
       "47598  2016-03-31 18:56:54  Opel_Vectra_B_1_6i_16V_Facelift_Tuning_Showcar...   \n",
       "2897   2016-03-12 21:50:57   Escort_MK_1_Hundeknochen_zum_umbauen_auf_RS_2000   \n",
       "24384  2016-03-21 13:57:51                            Schlachte_Golf_3_gt_tdi   \n",
       "11137  2016-03-29 23:52:57  suche_maserati_3200_gt_Zustand_unwichtig_laufe...   \n",
       "47634  2016-04-04 21:25:21                                        Ferrari_FXX   \n",
       "7814   2016-04-04 11:53:31                                        Ferrari_F40   \n",
       "22947  2016-03-22 12:54:19                         Bmw_530d_zum_ausschlachten   \n",
       "43049  2016-03-21 19:53:52                                      2_VW_Busse_T3   \n",
       "514    2016-03-17 09:53:08                   Ford_Focus_Turnier_1.6_16V_Style   \n",
       "37585  2016-03-29 11:38:54                                Volkswagen_Jetta_GT   \n",
       "36818  2016-03-27 18:37:37                                        Porsche_991   \n",
       "14715  2016-03-30 08:37:24                 Rolls_Royce_Phantom_Drophead_Coupe   \n",
       "34723  2016-03-23 16:37:29  Porsche_Porsche_911/930_Turbo_3.0__deutsche_Au...   \n",
       "35923  2016-04-03 07:56:23  Porsche_911_Targa_Exclusive_Edition__1_von_15_...   \n",
       "12682  2016-03-28 22:48:01  Porsche_GT3_RS__PCCB__Lift___grosser_Exklusiv_...   \n",
       "47337  2016-04-05 10:25:38                                    BMW_Z8_roadster   \n",
       "\n",
       "       seller offer_type       price   abtest vehicle_type  registration_year  \\\n",
       "39705  privat    Angebot  99999999.0  control    limousine               1999   \n",
       "42221  privat    Angebot  27322222.0  control    limousine               2014   \n",
       "27371  privat    Angebot  12345678.0  control          NaN               2017   \n",
       "39377  privat    Angebot  12345678.0  control          NaN               2018   \n",
       "47598  privat    Angebot  12345678.0  control    limousine               2001   \n",
       "2897   privat    Angebot  11111111.0     test    limousine               1973   \n",
       "24384  privat    Angebot  11111111.0     test          NaN               1995   \n",
       "11137  privat    Angebot  10000000.0  control        coupe               1960   \n",
       "47634  privat    Angebot   3890000.0     test        coupe               2006   \n",
       "7814   privat    Angebot   1300000.0  control        coupe               1992   \n",
       "22947  privat    Angebot   1234566.0  control        kombi               1999   \n",
       "43049  privat    Angebot    999999.0     test          bus               1981   \n",
       "514    privat    Angebot    999999.0     test        kombi               2009   \n",
       "37585  privat    Angebot    999990.0     test    limousine               1985   \n",
       "36818  privat    Angebot    350000.0  control        coupe               2016   \n",
       "14715  privat    Angebot    345000.0  control       cabrio               2012   \n",
       "34723  privat    Angebot    299000.0     test        coupe               1977   \n",
       "35923  privat    Angebot    295000.0     test       cabrio               2015   \n",
       "12682  privat    Angebot    265000.0  control        coupe               2016   \n",
       "47337  privat    Angebot    259000.0     test       cabrio               2001   \n",
       "\n",
       "         gearbox  powerps        model  odometer_km  registration_month  \\\n",
       "39705  automatik      224     s_klasse     150000.0                   9   \n",
       "42221    manuell      163           c4      40000.0                   2   \n",
       "27371        NaN       95        punto     150000.0                   0   \n",
       "39377    manuell       95          v40     150000.0                   6   \n",
       "47598    manuell      101       vectra     150000.0                   3   \n",
       "2897     manuell       48       escort      50000.0                   3   \n",
       "24384        NaN        0          NaN     150000.0                   0   \n",
       "11137    manuell      368          NaN     100000.0                   1   \n",
       "47634        NaN      799          NaN       5000.0                   7   \n",
       "7814         NaN        0          NaN      50000.0                  12   \n",
       "22947  automatik      190          NaN     150000.0                   2   \n",
       "43049    manuell       70  transporter     150000.0                   1   \n",
       "514      manuell      101        focus     125000.0                   4   \n",
       "37585    manuell      111        jetta     150000.0                  12   \n",
       "36818    manuell      500          911       5000.0                   3   \n",
       "14715  automatik      460          NaN      20000.0                   8   \n",
       "34723    manuell      260          911     100000.0                   7   \n",
       "35923  automatik      400          911       5000.0                   6   \n",
       "12682  automatik      500          911       5000.0                   3   \n",
       "47337    manuell      400      z_reihe      20000.0                   6   \n",
       "\n",
       "      fuel_type           brand unrepaired_damage           ad_created  \\\n",
       "39705    benzin   mercedes_benz               NaN  2016-03-22 00:00:00   \n",
       "42221    diesel         citroen               NaN  2016-03-08 00:00:00   \n",
       "27371       NaN            fiat               NaN  2016-03-09 00:00:00   \n",
       "39377       NaN           volvo              nein  2016-03-08 00:00:00   \n",
       "47598    benzin            opel              nein  2016-03-31 00:00:00   \n",
       "2897     benzin            ford              nein  2016-03-12 00:00:00   \n",
       "24384       NaN      volkswagen               NaN  2016-03-21 00:00:00   \n",
       "11137    benzin  sonstige_autos              nein  2016-03-29 00:00:00   \n",
       "47634       NaN  sonstige_autos              nein  2016-04-04 00:00:00   \n",
       "7814        NaN  sonstige_autos              nein  2016-04-04 00:00:00   \n",
       "22947    diesel             bmw               NaN  2016-03-22 00:00:00   \n",
       "43049    benzin      volkswagen               NaN  2016-03-21 00:00:00   \n",
       "514      benzin            ford              nein  2016-03-17 00:00:00   \n",
       "37585    benzin      volkswagen                ja  2016-03-29 00:00:00   \n",
       "36818    benzin         porsche              nein  2016-03-27 00:00:00   \n",
       "14715    benzin  sonstige_autos              nein  2016-03-30 00:00:00   \n",
       "34723    benzin         porsche              nein  2016-03-23 00:00:00   \n",
       "35923    benzin         porsche              nein  2016-04-03 00:00:00   \n",
       "12682    benzin         porsche              nein  2016-03-28 00:00:00   \n",
       "47337    benzin             bmw              nein  2016-04-05 00:00:00   \n",
       "\n",
       "       nr_of_pictures  postal_code            last_seen  \n",
       "39705               0        73525  2016-04-06 05:15:30  \n",
       "42221               0        76532  2016-03-08 20:39:05  \n",
       "27371               0        96110  2016-03-09 15:45:47  \n",
       "39377               0        14542  2016-04-06 23:17:31  \n",
       "47598               0         4356  2016-03-31 18:56:54  \n",
       "2897                0        94469  2016-03-12 22:45:27  \n",
       "24384               0        18519  2016-03-21 14:40:18  \n",
       "11137               0        73033  2016-04-06 21:18:11  \n",
       "47634               0        60313  2016-04-05 12:07:37  \n",
       "7814                0        60598  2016-04-05 11:34:11  \n",
       "22947               0        17454  2016-04-02 03:17:32  \n",
       "43049               0        99880  2016-03-28 17:18:28  \n",
       "514                 0        12205  2016-04-06 07:17:35  \n",
       "37585               0        50997  2016-03-29 11:38:54  \n",
       "36818               0        70499  2016-03-27 18:37:37  \n",
       "14715               0        73525  2016-04-07 00:16:26  \n",
       "34723               0        61462  2016-04-06 16:44:50  \n",
       "35923               0        74078  2016-04-03 08:56:20  \n",
       "12682               0        70193  2016-04-05 03:44:51  \n",
       "47337               0        61462  2016-04-05 12:07:32  "
      ]
     },
     "execution_count": 187,
     "metadata": {},
     "output_type": "execute_result"
    }
   ],
   "source": [
    "# Except for the Ferrari F40 (id: 7814) and Ferrari FXX (id: 47634),\n",
    "# all other prices look obviously typed in to mean missing\n",
    "autos.sort_values(\"price\", ascending=False).head(20)"
   ]
  },
  {
   "cell_type": "code",
   "execution_count": 188,
   "metadata": {
    "collapsed": false
   },
   "outputs": [
    {
     "data": {
      "text/plain": [
       "1421"
      ]
     },
     "execution_count": 188,
     "metadata": {},
     "output_type": "execute_result"
    }
   ],
   "source": [
    "autos[autos[\"price\"] == 0].shape[0] # 1421 rows with 0 price"
   ]
  },
  {
   "cell_type": "markdown",
   "metadata": {},
   "source": [
    "More observations:\n",
    "* `1,421` rows have `0` price, which probably means the listing ended\n",
    "* `9` rows have an absurd price like `12345678`, which likely refer to missing values\n",
    "* `odometer` appears to be a reliable and clean column"
   ]
  },
  {
   "cell_type": "markdown",
   "metadata": {},
   "source": [
    "### Dealing with outliers and odd values"
   ]
  },
  {
   "cell_type": "markdown",
   "metadata": {},
   "source": [
    "#### Prices\n",
    "Let's set any prices at or above 999,999 to Null, except for the Ferrari entries, since the cars with these values in the dataset are associated with common consumer vehicles and not exotic cars."
   ]
  },
  {
   "cell_type": "code",
   "execution_count": 189,
   "metadata": {
    "collapsed": false
   },
   "outputs": [],
   "source": [
    "# Set to missing any non-Ferrari price greater or equal to 999999\n",
    "autos.loc[(autos[\"price\"] >= 999999) & ~(autos[\"name\"].str.contains(\"Ferrari\")), \"price\"] = np.nan"
   ]
  },
  {
   "cell_type": "markdown",
   "metadata": {},
   "source": [
    "#### Registration Month and Year\n",
    "Let's set any registration months with a value of 0 to 1 to impute January as the earliest date possibly registered within the year. In addition, we'll truncate any dates before 1910 and after 2019.\n",
    "\n",
    "This will impute 5075 registration months, and truncate 24 bad registration years."
   ]
  },
  {
   "cell_type": "code",
   "execution_count": 190,
   "metadata": {
    "collapsed": false
   },
   "outputs": [],
   "source": [
    "# Impute missing registration months, and set years above 2019 to NaN\n",
    "autos.loc[autos[\"registration_month\"] == 0, \"registration_month\"] = 1\n",
    "autos.loc[(autos[\"registration_year\"] > 2019) | \n",
    "          (autos[\"registration_year\"] < 1910), \"registration_year\"] = np.nan"
   ]
  },
  {
   "cell_type": "markdown",
   "metadata": {},
   "source": [
    "### Processing Date Columns\n",
    "Unlike `registration_month` and `registration_year`, `date_crawled`, `last_seen`, and `ad_created` are datestamps that are not automatically converted by `pandas`, so we'll need to manually convert these to YYYY-MM-DD to do further analysis. "
   ]
  },
  {
   "cell_type": "code",
   "execution_count": 191,
   "metadata": {
    "collapsed": false
   },
   "outputs": [],
   "source": [
    "def describe_date(datestamp_col):\n",
    "    return(\n",
    "        (datestamp_col\n",
    "            .str[:10] # First 10 characters is YYYY-MM-DD\n",
    "            .value_counts(normalize=True, dropna=False) # summarize distribution\n",
    "            .sort_index()\n",
    "        ) # sort by earliest to latest date\n",
    "    )"
   ]
  },
  {
   "cell_type": "code",
   "execution_count": 192,
   "metadata": {
    "collapsed": false
   },
   "outputs": [
    {
     "data": {
      "text/plain": [
       "2016-03-05    0.02538\n",
       "2016-03-06    0.01394\n",
       "2016-03-07    0.03596\n",
       "2016-03-08    0.03330\n",
       "2016-03-09    0.03322\n",
       "2016-03-10    0.03212\n",
       "2016-03-11    0.03248\n",
       "2016-03-12    0.03678\n",
       "2016-03-13    0.01556\n",
       "2016-03-14    0.03662\n",
       "2016-03-15    0.03398\n",
       "2016-03-16    0.02950\n",
       "2016-03-17    0.03152\n",
       "2016-03-18    0.01306\n",
       "2016-03-19    0.03490\n",
       "2016-03-20    0.03782\n",
       "2016-03-21    0.03752\n",
       "2016-03-22    0.03294\n",
       "2016-03-23    0.03238\n",
       "2016-03-24    0.02910\n",
       "2016-03-25    0.03174\n",
       "2016-03-26    0.03248\n",
       "2016-03-27    0.03104\n",
       "2016-03-28    0.03484\n",
       "2016-03-29    0.03418\n",
       "2016-03-30    0.03362\n",
       "2016-03-31    0.03192\n",
       "2016-04-01    0.03380\n",
       "2016-04-02    0.03540\n",
       "2016-04-03    0.03868\n",
       "2016-04-04    0.03652\n",
       "2016-04-05    0.01310\n",
       "2016-04-06    0.00318\n",
       "2016-04-07    0.00142\n",
       "Name: date_crawled, dtype: float64"
      ]
     },
     "execution_count": 192,
     "metadata": {},
     "output_type": "execute_result"
    }
   ],
   "source": [
    "describe_date(autos[\"date_crawled\"])"
   ]
  },
  {
   "cell_type": "code",
   "execution_count": 193,
   "metadata": {
    "collapsed": false
   },
   "outputs": [
    {
     "data": {
      "text/plain": [
       "2015-06-11    0.00002\n",
       "2015-08-10    0.00002\n",
       "2015-09-09    0.00002\n",
       "2015-11-10    0.00002\n",
       "2015-12-05    0.00002\n",
       "2015-12-30    0.00002\n",
       "2016-01-03    0.00002\n",
       "2016-01-07    0.00002\n",
       "2016-01-10    0.00004\n",
       "2016-01-13    0.00002\n",
       "2016-01-14    0.00002\n",
       "2016-01-16    0.00002\n",
       "2016-01-22    0.00002\n",
       "2016-01-27    0.00006\n",
       "2016-01-29    0.00002\n",
       "2016-02-01    0.00002\n",
       "2016-02-02    0.00004\n",
       "2016-02-05    0.00004\n",
       "2016-02-07    0.00002\n",
       "2016-02-08    0.00002\n",
       "2016-02-09    0.00004\n",
       "2016-02-11    0.00002\n",
       "2016-02-12    0.00006\n",
       "2016-02-14    0.00004\n",
       "2016-02-16    0.00002\n",
       "2016-02-17    0.00002\n",
       "2016-02-18    0.00004\n",
       "2016-02-19    0.00006\n",
       "2016-02-20    0.00004\n",
       "2016-02-21    0.00006\n",
       "               ...   \n",
       "2016-03-09    0.03324\n",
       "2016-03-10    0.03186\n",
       "2016-03-11    0.03278\n",
       "2016-03-12    0.03662\n",
       "2016-03-13    0.01692\n",
       "2016-03-14    0.03522\n",
       "2016-03-15    0.03374\n",
       "2016-03-16    0.03000\n",
       "2016-03-17    0.03120\n",
       "2016-03-18    0.01372\n",
       "2016-03-19    0.03384\n",
       "2016-03-20    0.03786\n",
       "2016-03-21    0.03772\n",
       "2016-03-22    0.03280\n",
       "2016-03-23    0.03218\n",
       "2016-03-24    0.02908\n",
       "2016-03-25    0.03188\n",
       "2016-03-26    0.03256\n",
       "2016-03-27    0.03090\n",
       "2016-03-28    0.03496\n",
       "2016-03-29    0.03414\n",
       "2016-03-30    0.03344\n",
       "2016-03-31    0.03192\n",
       "2016-04-01    0.03380\n",
       "2016-04-02    0.03508\n",
       "2016-04-03    0.03892\n",
       "2016-04-04    0.03688\n",
       "2016-04-05    0.01184\n",
       "2016-04-06    0.00326\n",
       "2016-04-07    0.00128\n",
       "Name: ad_created, Length: 76, dtype: float64"
      ]
     },
     "execution_count": 193,
     "metadata": {},
     "output_type": "execute_result"
    }
   ],
   "source": [
    "describe_date(autos[\"ad_created\"])"
   ]
  },
  {
   "cell_type": "code",
   "execution_count": 194,
   "metadata": {
    "collapsed": false
   },
   "outputs": [
    {
     "data": {
      "text/plain": [
       "2016-03-05    0.00108\n",
       "2016-03-06    0.00442\n",
       "2016-03-07    0.00536\n",
       "2016-03-08    0.00760\n",
       "2016-03-09    0.00986\n",
       "2016-03-10    0.01076\n",
       "2016-03-11    0.01252\n",
       "2016-03-12    0.02382\n",
       "2016-03-13    0.00898\n",
       "2016-03-14    0.01280\n",
       "2016-03-15    0.01588\n",
       "2016-03-16    0.01644\n",
       "2016-03-17    0.02792\n",
       "2016-03-18    0.00742\n",
       "2016-03-19    0.01574\n",
       "2016-03-20    0.02070\n",
       "2016-03-21    0.02074\n",
       "2016-03-22    0.02158\n",
       "2016-03-23    0.01858\n",
       "2016-03-24    0.01956\n",
       "2016-03-25    0.01920\n",
       "2016-03-26    0.01696\n",
       "2016-03-27    0.01602\n",
       "2016-03-28    0.02086\n",
       "2016-03-29    0.02234\n",
       "2016-03-30    0.02484\n",
       "2016-03-31    0.02384\n",
       "2016-04-01    0.02310\n",
       "2016-04-02    0.02490\n",
       "2016-04-03    0.02536\n",
       "2016-04-04    0.02462\n",
       "2016-04-05    0.12428\n",
       "2016-04-06    0.22100\n",
       "2016-04-07    0.13092\n",
       "Name: last_seen, dtype: float64"
      ]
     },
     "execution_count": 194,
     "metadata": {},
     "output_type": "execute_result"
    }
   ],
   "source": [
    "describe_date(autos[\"last_seen\"])"
   ]
  },
  {
   "cell_type": "code",
   "execution_count": 195,
   "metadata": {
    "collapsed": false
   },
   "outputs": [
    {
     "data": {
      "text/plain": [
       "count    49976.000000\n",
       "mean      2003.366836\n",
       "std          7.693943\n",
       "min       1910.000000\n",
       "25%       1999.000000\n",
       "50%       2003.000000\n",
       "75%       2008.000000\n",
       "max       2019.000000\n",
       "Name: registration_year, dtype: float64"
      ]
     },
     "execution_count": 195,
     "metadata": {},
     "output_type": "execute_result"
    }
   ],
   "source": [
    "autos[\"registration_year\"].describe()"
   ]
  },
  {
   "cell_type": "markdown",
   "metadata": {},
   "source": [
    "Observations:\n",
    "* For both `date_crawled` and `ad_created`, it appears that most listings appeared between March 7th and April 4th with about 3% of listings appearing every day between these dates almost uniformly\n",
    "* Some ads are quite old, going all the way back to 2015\n",
    "* Cars are more frequently last seen closer to the last date available, April 7th; in addition, almost half of all cars were last seen between April 5th and April 7th\n",
    "    * This last point is probably because the car was last seen at the same time the ad was crawled\n",
    "* Registration years ranged from 1910 to 2019, and it appears that the majority of registrations occured between 1999 and 2008, going by IQR"
   ]
  },
  {
   "cell_type": "markdown",
   "metadata": {},
   "source": [
    "## Data Aggregation"
   ]
  },
  {
   "cell_type": "markdown",
   "metadata": {},
   "source": [
    "### Average sales for the top 10 car brands"
   ]
  },
  {
   "cell_type": "markdown",
   "metadata": {},
   "source": [
    "Let's see what the mean prices are for the top 10 most frequent car brands. Noting earlier that there are a number of \\$0 prices that are probably implausible, we'll summarize the values by sales with nominal values above \\$0."
   ]
  },
  {
   "cell_type": "code",
   "execution_count": 196,
   "metadata": {
    "collapsed": false
   },
   "outputs": [],
   "source": [
    "# Find the mean price for the top 10 brands\n",
    "top_10_brands = autos[\"brand\"].value_counts().iloc[:10].index\n",
    "mean_price_top_10 = {}\n",
    "\n",
    "for b in top_10_brands:\n",
    "    mean_price_top_10[b] = autos.loc[(autos[\"brand\"] == b) &\n",
    "                                     (autos[\"price\"] != 0), \"price\"].mean()"
   ]
  },
  {
   "cell_type": "code",
   "execution_count": 199,
   "metadata": {
    "collapsed": false
   },
   "outputs": [
    {
     "data": {
      "text/plain": [
       "[('audi', 9212.9306621881),\n",
       " ('mercedes_benz', 8536.027085124677),\n",
       " ('bmw', 8261.382442169132),\n",
       " ('volkswagen', 5428.701460771984),\n",
       " ('seat', 4315.744565217391),\n",
       " ('ford', 3728.4121821407452),\n",
       " ('peugeot', 3065.611888111888),\n",
       " ('opel', 2944.6075421641085),\n",
       " ('fiat', 2793.8700475435817),\n",
       " ('renault', 2431.195698924731)]"
      ]
     },
     "execution_count": 199,
     "metadata": {},
     "output_type": "execute_result"
    }
   ],
   "source": [
    "# Sort the dictionary values using itemgetter\n",
    "from operator import itemgetter\n",
    "sorted(mean_price_top_10.items(), key=itemgetter(1), reverse=True)"
   ]
  },
  {
   "cell_type": "markdown",
   "metadata": {},
   "source": [
    "Executive summary:\n",
    "* The top 10 brands were Audi, BMW, Fiat, Ford, Mercedes-Benz, Opel, Peugeot, Renault, SEAT, and Volkswagen\n",
    "* Audi had the highest used car price at \\$9,212\n",
    "* Renault had the lowest used car price at \\$2,431\n",
    "* Audi, Mercedes-Benz, and BMW had the three highest average sale prices\n",
    "* Opel, Fiat, and Renault had the three lowest average sale prices"
   ]
  },
  {
   "cell_type": "markdown",
   "metadata": {},
   "source": [
    "### Average mileage of top 6 brands sold"
   ]
  },
  {
   "cell_type": "markdown",
   "metadata": {},
   "source": [
    "It would be interesting not just to see the top 10 mean prices, but also what kind of average mileage those cars sold had. To facilitate this, we'll present the mean price and mean milage together."
   ]
  },
  {
   "cell_type": "code",
   "execution_count": 200,
   "metadata": {
    "collapsed": false
   },
   "outputs": [],
   "source": [
    "mean_miles_top_10 = {}\n",
    "\n",
    "for b in top_10_brands:\n",
    "    mean_miles_top_10[b] = autos.loc[(autos[\"brand\"] == b) &\n",
    "                                     (autos[\"price\"] != 0), \"odometer_km\"].mean()\n"
   ]
  },
  {
   "cell_type": "code",
   "execution_count": 201,
   "metadata": {
    "collapsed": false
   },
   "outputs": [
    {
     "data": {
      "text/html": [
       "<div>\n",
       "<style scoped>\n",
       "    .dataframe tbody tr th:only-of-type {\n",
       "        vertical-align: middle;\n",
       "    }\n",
       "\n",
       "    .dataframe tbody tr th {\n",
       "        vertical-align: top;\n",
       "    }\n",
       "\n",
       "    .dataframe thead th {\n",
       "        text-align: right;\n",
       "    }\n",
       "</style>\n",
       "<table border=\"1\" class=\"dataframe\">\n",
       "  <thead>\n",
       "    <tr style=\"text-align: right;\">\n",
       "      <th></th>\n",
       "      <th>mean_price</th>\n",
       "      <th>mean_mileage</th>\n",
       "    </tr>\n",
       "  </thead>\n",
       "  <tbody>\n",
       "    <tr>\n",
       "      <th>audi</th>\n",
       "      <td>9213</td>\n",
       "      <td>129493</td>\n",
       "    </tr>\n",
       "    <tr>\n",
       "      <th>bmw</th>\n",
       "      <td>8261</td>\n",
       "      <td>132686</td>\n",
       "    </tr>\n",
       "    <tr>\n",
       "      <th>fiat</th>\n",
       "      <td>2794</td>\n",
       "      <td>117593</td>\n",
       "    </tr>\n",
       "    <tr>\n",
       "      <th>ford</th>\n",
       "      <td>3728</td>\n",
       "      <td>124328</td>\n",
       "    </tr>\n",
       "    <tr>\n",
       "      <th>mercedes_benz</th>\n",
       "      <td>8536</td>\n",
       "      <td>130801</td>\n",
       "    </tr>\n",
       "    <tr>\n",
       "      <th>opel</th>\n",
       "      <td>2945</td>\n",
       "      <td>129387</td>\n",
       "    </tr>\n",
       "    <tr>\n",
       "      <th>peugeot</th>\n",
       "      <td>3066</td>\n",
       "      <td>127357</td>\n",
       "    </tr>\n",
       "    <tr>\n",
       "      <th>renault</th>\n",
       "      <td>2431</td>\n",
       "      <td>128062</td>\n",
       "    </tr>\n",
       "    <tr>\n",
       "      <th>seat</th>\n",
       "      <td>4316</td>\n",
       "      <td>121641</td>\n",
       "    </tr>\n",
       "    <tr>\n",
       "      <th>volkswagen</th>\n",
       "      <td>5429</td>\n",
       "      <td>128903</td>\n",
       "    </tr>\n",
       "  </tbody>\n",
       "</table>\n",
       "</div>"
      ],
      "text/plain": [
       "              mean_price mean_mileage\n",
       "audi                9213       129493\n",
       "bmw                 8261       132686\n",
       "fiat                2794       117593\n",
       "ford                3728       124328\n",
       "mercedes_benz       8536       130801\n",
       "opel                2945       129387\n",
       "peugeot             3066       127357\n",
       "renault             2431       128062\n",
       "seat                4316       121641\n",
       "volkswagen          5429       128903"
      ]
     },
     "execution_count": 201,
     "metadata": {},
     "output_type": "execute_result"
    }
   ],
   "source": [
    "# pandas interprets keys of a list of dictionaries as columns, not as indexes\n",
    "# so to properly code as columns in a line, we use the index argument and\n",
    "# transpose the resulting matrix\n",
    "(pd.DataFrame([pd.Series(mean_price_top_10), pd.Series(mean_miles_top_10)],\n",
    "             index = ['mean_price', 'mean_mileage'])\n",
    "   .T\n",
    "   .applymap(lambda x: format(x, '.0f'))\n",
    ")"
   ]
  },
  {
   "cell_type": "markdown",
   "metadata": {},
   "source": [
    "Executive summary:\n",
    "* All the top 10 car brands had mean mileages well above between 115,000 - 135,000\n",
    "* These brands sell even when mileage is very high, indicating some kind of consumer confidence"
   ]
  },
  {
   "cell_type": "markdown",
   "metadata": {},
   "source": [
    "## Extra Data Cleaning"
   ]
  },
  {
   "cell_type": "markdown",
   "metadata": {},
   "source": [
    "### Translating German words to English\n",
    "We can use `Series.replace()` to efficiently translate German words to English words for the categorical variables in the dataset.\n",
    "\n",
    "The workflow we'll use is to list the unique categories, and then replace any German words with English translations."
   ]
  },
  {
   "cell_type": "code",
   "execution_count": null,
   "metadata": {
    "collapsed": false
   },
   "outputs": [],
   "source": [
    "# Strings are stored as 'object' types in pandas\n",
    "autos.describe(include='O')"
   ]
  },
  {
   "cell_type": "markdown",
   "metadata": {},
   "source": [
    "`vehicle_type`, `gearbox`, `fuel_type`, and `unrepaired_damage` are informative columns that are worth translating for analytical convenience in English."
   ]
  },
  {
   "cell_type": "markdown",
   "metadata": {},
   "source": [
    "#### Vehicle Type"
   ]
  },
  {
   "cell_type": "code",
   "execution_count": null,
   "metadata": {
    "collapsed": false
   },
   "outputs": [],
   "source": [
    "autos[\"vehicle_type\"].unique() # Before translation"
   ]
  },
  {
   "cell_type": "markdown",
   "metadata": {},
   "source": [
    "##### Translation Notes:\n",
    "* [Kombi](https://en.wikipedia.org/wiki/Volkswagen_Type_2) refers to the Voltzwagen Type 2 vehicles. English translations are informal by nature, so I'll opt to keep this value as is\n",
    "* [Kleinwagen](https://en.wikipedia.org/wiki/Subcompact_car) translates to the American classification *subcompact*, and I use this translation to keep the category to one word\n"
   ]
  },
  {
   "cell_type": "code",
   "execution_count": null,
   "metadata": {
    "collapsed": false
   },
   "outputs": [],
   "source": [
    "autos[\"vehicle_type\"].replace({'kleinwagen' : 'subcompact',\n",
    "                               'cabrio' : 'convertible',\n",
    "                               'andere' : 'other'},\n",
    "                              inplace = True)"
   ]
  },
  {
   "cell_type": "code",
   "execution_count": null,
   "metadata": {
    "collapsed": false
   },
   "outputs": [],
   "source": [
    "autos[\"vehicle_type\"].unique() # After translation"
   ]
  },
  {
   "cell_type": "markdown",
   "metadata": {},
   "source": [
    "#### Gearbox"
   ]
  },
  {
   "cell_type": "code",
   "execution_count": null,
   "metadata": {
    "collapsed": false
   },
   "outputs": [],
   "source": [
    "autos[\"gearbox\"].unique() # Before translation"
   ]
  },
  {
   "cell_type": "code",
   "execution_count": null,
   "metadata": {
    "collapsed": false
   },
   "outputs": [],
   "source": [
    "autos[\"gearbox\"].replace({'manuell' : 'manual',\n",
    "                          'automatik' : 'automatic'},\n",
    "                         inplace = True)"
   ]
  },
  {
   "cell_type": "code",
   "execution_count": null,
   "metadata": {
    "collapsed": false
   },
   "outputs": [],
   "source": [
    "autos[\"gearbox\"].unique() # After translation"
   ]
  },
  {
   "cell_type": "markdown",
   "metadata": {},
   "source": [
    "#### Fuel Type"
   ]
  },
  {
   "cell_type": "code",
   "execution_count": null,
   "metadata": {
    "collapsed": false
   },
   "outputs": [],
   "source": [
    "autos[\"fuel_type\"].unique() # Before translation"
   ]
  },
  {
   "cell_type": "markdown",
   "metadata": {},
   "source": [
    "##### Translation Notes\n",
    "* *Benzin* refers to the colloquial *gas* in English for petroleum gas, but to keep it simple, I just call it `gas` here\n",
    "* *LPG* and *CNG* are liquified petroleum gas and compressed natural gas, so these don't need to be translated"
   ]
  },
  {
   "cell_type": "code",
   "execution_count": null,
   "metadata": {
    "collapsed": false
   },
   "outputs": [],
   "source": [
    "autos[\"fuel_type\"].replace({'benzin' : 'gas',\n",
    "                            'elektro' : 'electric',\n",
    "                            'andere' : 'other'},\n",
    "                           inplace = True)"
   ]
  },
  {
   "cell_type": "code",
   "execution_count": null,
   "metadata": {
    "collapsed": false
   },
   "outputs": [],
   "source": [
    "autos[\"fuel_type\"].unique() # After translation"
   ]
  },
  {
   "cell_type": "markdown",
   "metadata": {},
   "source": [
    "##### Unrepaired Damage"
   ]
  },
  {
   "cell_type": "code",
   "execution_count": null,
   "metadata": {
    "collapsed": false
   },
   "outputs": [],
   "source": [
    "autos[\"unrepaired_damage\"].unique() # Before translation"
   ]
  },
  {
   "cell_type": "code",
   "execution_count": null,
   "metadata": {
    "collapsed": false
   },
   "outputs": [],
   "source": [
    "# map() is faster than replace(), and only 2 values to replace so\n",
    "# I opted to use that\n",
    "autos[\"unrepaired_damage\"] = autos[\"unrepaired_damage\"].map({'nein' : 'no', 'ja' : 'yes'})"
   ]
  },
  {
   "cell_type": "code",
   "execution_count": null,
   "metadata": {
    "collapsed": false
   },
   "outputs": [],
   "source": [
    "autos[\"unrepaired_damage\"].unique() # After translation"
   ]
  },
  {
   "cell_type": "markdown",
   "metadata": {},
   "source": [
    "## Extra Analysis"
   ]
  },
  {
   "cell_type": "markdown",
   "metadata": {},
   "source": [
    "### Most common brand and model combinations\n",
    "One interesting question to answer is: which models are the most common for each brand?\n",
    "\n",
    "We'll answer this in a table of all brands and the most popular model in each brand, along with the count of listings in the dataset."
   ]
  },
  {
   "cell_type": "code",
   "execution_count": null,
   "metadata": {
    "collapsed": false
   },
   "outputs": [],
   "source": [
    "# Idea: Find the largest count within each brand using grouping\n",
    "max_brand_model = (autos\n",
    "                     .groupby([\"brand\",\"model\"])\n",
    "                     .size()\n",
    "                     .groupby(level=0, group_keys=False)\n",
    "                     .nlargest(n=1)\n",
    "                     .to_frame('size')\n",
    "                     .rename({'size' : 'N'}, axis=1)\n",
    "                  )"
   ]
  },
  {
   "cell_type": "code",
   "execution_count": null,
   "metadata": {
    "collapsed": false
   },
   "outputs": [],
   "source": [
    "max_brand_model.style"
   ]
  },
  {
   "cell_type": "markdown",
   "metadata": {},
   "source": [
    "We can also find out which three combinations of brand and model have the most listings."
   ]
  },
  {
   "cell_type": "code",
   "execution_count": null,
   "metadata": {
    "collapsed": false
   },
   "outputs": [],
   "source": [
    "max_brand_model.sort_values(\"N\").tail(3)"
   ]
  },
  {
   "cell_type": "markdown",
   "metadata": {},
   "source": [
    "Looks like the top three most common brand and model listings are:\n",
    "* Opel Corsa\n",
    "* BMW 3 Series\n",
    "* Volkswagen Golf\n",
    "\n",
    "Together, these three specific brand and models make up 8,520 of the listings, or 17% of the listings."
   ]
  },
  {
   "cell_type": "markdown",
   "metadata": {},
   "source": [
    "### Average prices by mileage\n",
    "It appeared in our earlier analysis of the mileage of the top 10 brands by selling price that many cars with high mileage (115,000+) were being sold. It is possible that 1) high mileage results in lower sale value due to depreciation, and 2) the high mileage cars drag the overall average sale price down.\n",
    "\n",
    "We can explore this by looking at sales data by mileage to see if there is an overall effect."
   ]
  },
  {
   "cell_type": "code",
   "execution_count": 162,
   "metadata": {
    "collapsed": false
   },
   "outputs": [
    {
     "data": {
      "text/plain": [
       "0.1704"
      ]
     },
     "execution_count": 162,
     "metadata": {},
     "output_type": "execute_result"
    }
   ],
   "source": [
    "(1735+2761+4024) / 50000"
   ]
  },
  {
   "cell_type": "code",
   "execution_count": 213,
   "metadata": {
    "collapsed": false
   },
   "outputs": [
    {
     "data": {
      "text/plain": [
       "150000.0    32424\n",
       "125000.0     5170\n",
       "100000.0     2169\n",
       "90000.0      1757\n",
       "80000.0      1436\n",
       "70000.0      1230\n",
       "60000.0      1164\n",
       "50000.0      1027\n",
       "5000.0        967\n",
       "40000.0       819\n",
       "30000.0       789\n",
       "20000.0       784\n",
       "10000.0       264\n",
       "Name: odometer_km, dtype: int64"
      ]
     },
     "execution_count": 213,
     "metadata": {},
     "output_type": "execute_result"
    }
   ],
   "source": [
    "# Distribution of mileage\n",
    "autos[\"odometer_km\"].value_counts()"
   ]
  },
  {
   "cell_type": "markdown",
   "metadata": {},
   "source": [
    "As suspected, the dataset is mostly represented by cars with 150,000 km or more of mileage. Because of this, quartiles have little meaning here. To see this, let's get simple summary statistics."
   ]
  },
  {
   "cell_type": "code",
   "execution_count": 214,
   "metadata": {
    "collapsed": false
   },
   "outputs": [
    {
     "data": {
      "text/plain": [
       "count     50000.000000\n",
       "mean     125732.700000\n",
       "std       40042.211706\n",
       "min        5000.000000\n",
       "25%      125000.000000\n",
       "50%      150000.000000\n",
       "75%      150000.000000\n",
       "max      150000.000000\n",
       "Name: odometer_km, dtype: float64"
      ]
     },
     "execution_count": 214,
     "metadata": {},
     "output_type": "execute_result"
    }
   ],
   "source": [
    "autos[\"odometer_km\"].describe()"
   ]
  },
  {
   "cell_type": "markdown",
   "metadata": {},
   "source": [
    "As we can see from the summary statistics, the 25th percentile is already 125,000 km, and the median at 150,000 km, or the max of the dataset. Since there aren't too many mileage categories, let's find the average prices for each mileage category."
   ]
  },
  {
   "cell_type": "code",
   "execution_count": 219,
   "metadata": {
    "collapsed": false
   },
   "outputs": [
    {
     "data": {
      "text/plain": [
       "odometer_km\n",
       "5000.0      13168.0\n",
       "10000.0     20248.0\n",
       "20000.0     18054.0\n",
       "30000.0     16532.0\n",
       "40000.0     15481.0\n",
       "50000.0     14982.0\n",
       "60000.0     12243.0\n",
       "70000.0     10868.0\n",
       "80000.0      9614.0\n",
       "90000.0      8369.0\n",
       "100000.0     8017.0\n",
       "125000.0     6139.0\n",
       "150000.0     3760.0\n",
       "Name: price, dtype: float64"
      ]
     },
     "execution_count": 219,
     "metadata": {},
     "output_type": "execute_result"
    }
   ],
   "source": [
    "# Among all nonzero prices, find the mean price for each mileage label\n",
    "(autos[autos[\"price\"] != 0]\n",
    "    .groupby(\"odometer_km\")[\"price\"]\n",
    "    .mean()\n",
    "    .round()\n",
    ")"
   ]
  },
  {
   "cell_type": "markdown",
   "metadata": {},
   "source": [
    "Aha! Looks like mileage is inversely proportional to average price, meaning that depreciation in the dataset is very real. Cars with higher mileage tend to have lower sale prices.\n",
    "\n",
    "Interestingly, cars with less than 100,000 km sell on average for at least \\$8,000, and prices for low mileage cars of 20,000 km or less sell for at least \\$18,000 on average."
   ]
  },
  {
   "cell_type": "markdown",
   "metadata": {},
   "source": [
    "### Average price of damaged cars vs non-damaged cars\n",
    "Similar to our analysis above, we can look at how much damaged cars sell for compared to non-damaged cars."
   ]
  },
  {
   "cell_type": "code",
   "execution_count": 222,
   "metadata": {
    "collapsed": false
   },
   "outputs": [
    {
     "data": {
      "text/plain": [
       "unrepaired_damage\n",
       "ja      2435.0\n",
       "nein    7236.0\n",
       "Name: price, dtype: float64"
      ]
     },
     "execution_count": 222,
     "metadata": {},
     "output_type": "execute_result"
    }
   ],
   "source": [
    "(autos[autos[\"price\"] != 0]\n",
    "     .groupby(\"unrepaired_damage\")[\"price\"]\n",
    "     .mean()\n",
    "     .round()\n",
    ")"
   ]
  },
  {
   "cell_type": "markdown",
   "metadata": {},
   "source": [
    "For this dataset, non-damaged cars (i.e. cars without unrepaired damage) sell for almost \\$5,000 more compared to their damaged counterparts."
   ]
  }
 ],
 "metadata": {
  "kernelspec": {
   "display_name": "Python 3",
   "language": "python",
   "name": "python3"
  },
  "language_info": {
   "codemirror_mode": {
    "name": "ipython",
    "version": 3
   },
   "file_extension": ".py",
   "mimetype": "text/x-python",
   "name": "python",
   "nbconvert_exporter": "python",
   "pygments_lexer": "ipython3",
   "version": "3.4.3"
  }
 },
 "nbformat": 4,
 "nbformat_minor": 2
}
